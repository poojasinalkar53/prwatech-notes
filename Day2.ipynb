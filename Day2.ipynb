{
 "cells": [
  {
   "cell_type": "code",
   "execution_count": 1,
   "metadata": {},
   "outputs": [],
   "source": [
    "#if, if else, if else ladder"
   ]
  },
  {
   "cell_type": "code",
   "execution_count": 2,
   "metadata": {},
   "outputs": [
    {
     "data": {
      "text/plain": [
       "'\\nWrite a program, which will tell us whether \\ngiven input is 0, +ve, -ve\\n'"
      ]
     },
     "execution_count": 2,
     "metadata": {},
     "output_type": "execute_result"
    }
   ],
   "source": [
    "'''\n",
    "Write a program, which will tell us whether \n",
    "given input is 0, +ve, -ve\n",
    "'''"
   ]
  },
  {
   "cell_type": "code",
   "execution_count": 13,
   "metadata": {},
   "outputs": [
    {
     "name": "stdout",
     "output_type": "stream",
     "text": [
      "Enter the num :8\n",
      "Given num is positive and even 8\n"
     ]
    }
   ],
   "source": [
    "#combination of nested if else and if else ladder \n",
    "\n",
    "num = int(input(\"Enter the num :\"))\n",
    "if(num>=0):\n",
    "    if(num == 0):\n",
    "        print(\"Given num is even {}\".format(num))\n",
    "    elif(num>0 and num % 2 == 0):\n",
    "        print(\"Given num is positive and even {}\".format(num))\n",
    "    else:\n",
    "        print(\"Given num is positive and odd {}\".format(num))\n",
    "elif(num < 0 and num % 2 == 0):\n",
    "    print(\"Given num is negative and even {}\".format(num))\n",
    "else:\n",
    "    print(\"Given num is negative and odd {}\".format(num))"
   ]
  },
  {
   "cell_type": "code",
   "execution_count": 26,
   "metadata": {},
   "outputs": [
    {
     "name": "stdout",
     "output_type": "stream",
     "text": [
      "Input num1 :13\n",
      "Input num2 :15\n",
      "Input num3 :18\n",
      "Largest num is 18\n"
     ]
    }
   ],
   "source": [
    "#find out the largest number among 3 numbers\n",
    "num1 = int(input(\"Input num1 :\"))\n",
    "num2 = int(input(\"Input num2 :\"))\n",
    "num3 = int(input(\"Input num3 :\"))\n",
    "\n",
    "if(num1 > num2 and num1 and num3):\n",
    "    largest1 = num1\n",
    "elif(num2 > num1 and num2 > num3):\n",
    "    largest2 = num2\n",
    "else:\n",
    "    largest3 = num3\n",
    "print(\"Largest num is {}\".format(largest3))"
   ]
  },
  {
   "cell_type": "code",
   "execution_count": 59,
   "metadata": {},
   "outputs": [
    {
     "name": "stdout",
     "output_type": "stream",
     "text": [
      "Enter the num :0\n"
     ]
    }
   ],
   "source": [
    "n = int(input(\"Enter the num :\"))\n",
    "\n",
    "if(n % 2 != 0 or n % 2 == 0 and n>=6 and n <= 20):\n",
    "    print(\"Weird\")\n",
    "elif(n % 2 == 0 and n>=2 and n <= 5 or n > 20):\n",
    "    print(\"Not Weird\")\n",
    "    "
   ]
  },
  {
   "cell_type": "code",
   "execution_count": 66,
   "metadata": {},
   "outputs": [
    {
     "name": "stdout",
     "output_type": "stream",
     "text": [
      "Final num is : 124\n"
     ]
    }
   ],
   "source": [
    "r = range(12,20)       #range(start_point, end_point, step_size)\n",
    "agg = 0                #counter\n",
    "\n",
    "for i in r:\n",
    "    agg +=  i\n",
    "print(\"Final num is : {}\".format(agg))"
   ]
  },
  {
   "cell_type": "code",
   "execution_count": 67,
   "metadata": {},
   "outputs": [],
   "source": [
    "#loop : for(iteration is known), while(iteration is unknown)"
   ]
  },
  {
   "cell_type": "code",
   "execution_count": 74,
   "metadata": {},
   "outputs": [
    {
     "name": "stdout",
     "output_type": "stream",
     "text": [
      "Enter the amt :100000\n",
      "After 1 years, amt is 107000.0 INR and Int is 7000.0\n",
      "After 2 years, amt is 114490.0 INR and Int is 14490.0\n",
      "After 3 years, amt is 122504.3 INR and Int is 22504.300000000003\n",
      "After 4 years, amt is 131079.601 INR and Int is 31079.600999999995\n",
      "After 5 years, amt is 140255.17307 INR and Int is 40255.17306999999\n"
     ]
    }
   ],
   "source": [
    "#Write a program based on below scenerio :\n",
    "'''\n",
    "FD = 100000.00\n",
    "Bank = SBI \n",
    "ROI = 7%\n",
    "\n",
    "After 5 years, what is my total amount?\n",
    "total amount = ROI + principal\n",
    "'''\n",
    "Amt = 100000.00\n",
    "FD = float(input(\"Enter the amt :\"))\n",
    "Bank = \"SBI\"\n",
    "ROI = 0.07\n",
    "years = 5\n",
    "\n",
    "for y in range(1,(years+1)):\n",
    "    FD = FD + (FD * ROI)\n",
    "    Int = (FD - Amt)\n",
    "    print(\"After {} years, amt is {} INR and Int is {}\".format(y,FD,Int))\n",
    "   "
   ]
  },
  {
   "cell_type": "code",
   "execution_count": 78,
   "metadata": {},
   "outputs": [
    {
     "name": "stdout",
     "output_type": "stream",
     "text": [
      "Enter the p1:10\n",
      "Enter the p2:50\n",
      "The 11 is prime num.\n",
      "The 13 is prime num.\n",
      "The 17 is prime num.\n",
      "The 19 is prime num.\n",
      "The 23 is prime num.\n",
      "The 29 is prime num.\n",
      "The 31 is prime num.\n",
      "The 37 is prime num.\n",
      "The 41 is prime num.\n",
      "The 43 is prime num.\n",
      "The 47 is prime num.\n"
     ]
    }
   ],
   "source": [
    "#Write a program, which will find out prime numbers for the given range.\n",
    "#nested for loop\n",
    "#prime = 2,3,5,7,11,13,17,19,23,29,31,37,41,43,47\n",
    "\n",
    "prime1 = int(input(\"Enter the p1:\"))\n",
    "prime2 = int(input(\"Enter the p2:\"))\n",
    "\n",
    "for p in range(prime1, prime2+1):\n",
    "    if(p > 1):\n",
    "        isDiv = False\n",
    "        for ind in range(2, p):\n",
    "            if(p % ind == 0):\n",
    "                isDiv = True\n",
    "                break\n",
    "        if not isDiv:\n",
    "            print(\"The {} is prime num.\".format(p))"
   ]
  },
  {
   "cell_type": "code",
   "execution_count": null,
   "metadata": {},
   "outputs": [],
   "source": []
  }
 ],
 "metadata": {
  "kernelspec": {
   "display_name": "Python 3",
   "language": "python",
   "name": "python3"
  },
  "language_info": {
   "codemirror_mode": {
    "name": "ipython",
    "version": 3
   },
   "file_extension": ".py",
   "mimetype": "text/x-python",
   "name": "python",
   "nbconvert_exporter": "python",
   "pygments_lexer": "ipython3",
   "version": "3.8.5"
  }
 },
 "nbformat": 4,
 "nbformat_minor": 4
}
