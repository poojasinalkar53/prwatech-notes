{
 "cells": [
  {
   "cell_type": "markdown",
   "metadata": {
    "colab_type": "text",
    "id": "XP2V7Ds3x9lJ"
   },
   "source": [
    "# Python Keywords"
   ]
  },
  {
   "cell_type": "markdown",
   "metadata": {
    "colab_type": "text",
    "id": "WWafYKulx9lO"
   },
   "source": [
    "Keywords are the reserved in python\n",
    "\n",
    "We can't use a keyword as variable name, function name or any other identifier\n",
    "\n",
    "Keywords are case sentive"
   ]
  },
  {
   "cell_type": "code",
   "execution_count": 3,
   "metadata": {
    "colab": {},
    "colab_type": "code",
    "id": "bmp-yw_cx9lP",
    "outputId": "2c10a9fe-df24-4add-d1ab-707c6bbd2598"
   },
   "outputs": [
    {
     "name": "stdout",
     "output_type": "stream",
     "text": [
      "['False', 'None', 'True', 'and', 'as', 'assert', 'async', 'await', 'break', 'class', 'continue', 'def', 'del', 'elif', 'else', 'except', 'finally', 'for', 'from', 'global', 'if', 'import', 'in', 'is', 'lambda', 'nonlocal', 'not', 'or', 'pass', 'raise', 'return', 'try', 'while', 'with', 'yield']\n",
      "Total reserved kw available in python 3.8 :35\n"
     ]
    }
   ],
   "source": [
    "#Get all keywords in python 3.7.2\n",
    "\n",
    "import keyword as kw\n",
    "\n",
    "print(kw.kwlist)\n",
    "\n",
    "print(\"Total reserved kw available in python 3.8 :\" + str(len(kw.kwlist)))\n",
    "\n",
    "#opt = str(len(kw.kwlist))\n",
    "\n",
    "#print(\"Type of opt : \", type(opt))\n",
    "\n",
    "#print(\"Num of available keywords in python 3.8.3 : \" + opt)"
   ]
  },
  {
   "cell_type": "code",
   "execution_count": 10,
   "metadata": {},
   "outputs": [
    {
     "name": "stdout",
     "output_type": "stream",
     "text": [
      "10.0\n"
     ]
    }
   ],
   "source": [
    "#Type Casting :\n",
    "\n",
    "curr_month = '10'\n",
    "\n",
    "curr_month_int = float(curr_month)\n",
    "print(curr_month_int)"
   ]
  },
  {
   "cell_type": "code",
   "execution_count": 10,
   "metadata": {},
   "outputs": [
    {
     "name": "stdout",
     "output_type": "stream",
     "text": [
      "Data type :  <class 'int'>\n",
      "Memory address of Age1 :  4473641888\n",
      "Memory address of Age2 :  4473641888\n"
     ]
    }
   ],
   "source": [
    "Age1 = 19\n",
    "Age2 = 19\n",
    "\n",
    "print(\"Data type : \" ,(type(Age)))\n",
    "\n",
    "print(\"Memory address of Age1 : \", id(Age1))\n",
    "\n",
    "print(\"Memory address of Age2 : \", id(Age2))"
   ]
  },
  {
   "cell_type": "markdown",
   "metadata": {
    "colab_type": "text",
    "collapsed": true,
    "id": "4wpq4Uomx9lW"
   },
   "source": [
    "# Identifiers"
   ]
  },
  {
   "cell_type": "markdown",
   "metadata": {
    "colab_type": "text",
    "id": "VtGncKb3x9lY"
   },
   "source": [
    "Identifier is the name given to entities like class, functions, variables etc. in Python. It helps differentiating one entity from another."
   ]
  },
  {
   "cell_type": "markdown",
   "metadata": {
    "colab_type": "text",
    "id": "YHO424Knx9lZ"
   },
   "source": [
    "Rules for Writing Identifiers:\n",
    "\n",
    "1. Identifiers can be a combination of letters in lowercase (a to z) or uppercase (A to Z) or digits (0 to 9) or an underscore (_), identifier can not be started with digit.\n",
    "\n",
    "2. An identifier cannot start with a digit. 1variable is invalid, but variable1 is perfectly fine.\n",
    "\n",
    "3. Keywords cannot be used as identifiers."
   ]
  },
  {
   "cell_type": "code",
   "execution_count": 18,
   "metadata": {},
   "outputs": [
    {
     "name": "stdout",
     "output_type": "stream",
     "text": [
      "<class 'str'>\n",
      "Welcome to python 3.8.3\n"
     ]
    }
   ],
   "source": [
    "greet = \"Welcome to python 3.8.3\"\n",
    "print(greet)"
   ]
  },
  {
   "cell_type": "code",
   "execution_count": 13,
   "metadata": {
    "colab": {},
    "colab_type": "code",
    "id": "tZQPhTryx9la",
    "outputId": "814c5b60-82f1-43ad-900e-a03d4772f14e"
   },
   "outputs": [
    {
     "name": "stdout",
     "output_type": "stream",
     "text": [
      "My result is :  1\n"
     ]
    }
   ],
   "source": [
    "#d2 = 8\n",
    "#print(d2)\n",
    "sa = 1\n",
    "print(\"My result is : \" , sa)"
   ]
  },
  {
   "cell_type": "markdown",
   "metadata": {
    "colab_type": "text",
    "id": "v-YqWZVHx9le"
   },
   "source": [
    " We cannot use special symbols like !, @, #, $, % etc. in our identifier."
   ]
  },
  {
   "cell_type": "code",
   "execution_count": 16,
   "metadata": {
    "colab": {},
    "colab_type": "code",
    "id": "FTqhcbK5x9lg",
    "outputId": "4e2c5993-4db4-4b6c-bb8d-447cc4d3a66b"
   },
   "outputs": [
    {
     "ename": "SyntaxError",
     "evalue": "cannot assign to operator (<ipython-input-16-dfdba4ce8c50>, line 2)",
     "output_type": "error",
     "traceback": [
      "\u001b[0;36m  File \u001b[0;32m\"<ipython-input-16-dfdba4ce8c50>\"\u001b[0;36m, line \u001b[0;32m2\u001b[0m\n\u001b[0;31m    abc&j=100\u001b[0m\n\u001b[0m    ^\u001b[0m\n\u001b[0;31mSyntaxError\u001b[0m\u001b[0;31m:\u001b[0m cannot assign to operator\n"
     ]
    }
   ],
   "source": [
    "#a@ = 10             #can't use special symbols as an identifier\n",
    "abc&j=100\n",
    "print(abc&j)"
   ]
  },
  {
   "cell_type": "code",
   "execution_count": 35,
   "metadata": {},
   "outputs": [
    {
     "name": "stdout",
     "output_type": "stream",
     "text": [
      "<class 'str'>\n"
     ]
    }
   ],
   "source": [
    "ind_trailing_by_eng_3rd_test = \"3\"\n",
    "print(type(ind_trailing_by_eng_3rd_test))"
   ]
  },
  {
   "cell_type": "code",
   "execution_count": 36,
   "metadata": {},
   "outputs": [
    {
     "name": "stdout",
     "output_type": "stream",
     "text": [
      "<class 'int'>\n"
     ]
    }
   ],
   "source": [
    "#converting int to str\n",
    "typ_cast_str = int(ind_trailing_by_eng_3rd_test)\n",
    "print(type(typ_cast_str))"
   ]
  },
  {
   "cell_type": "code",
   "execution_count": 37,
   "metadata": {},
   "outputs": [
    {
     "name": "stdout",
     "output_type": "stream",
     "text": [
      "<class 'float'>\n",
      "3.0\n"
     ]
    }
   ],
   "source": [
    "#converting int to float\n",
    "typ_cast_float = float(ind_trailing_by_eng_3rd_test)\n",
    "print(type(typ_cast_float))\n",
    "print(typ_cast_float)"
   ]
  },
  {
   "cell_type": "code",
   "execution_count": 3,
   "metadata": {},
   "outputs": [
    {
     "name": "stdout",
     "output_type": "stream",
     "text": [
      "Py\n"
     ]
    }
   ],
   "source": [
    "value = 10\n",
    "if(value < 20):\n",
    "    print(\"Py\")"
   ]
  },
  {
   "cell_type": "code",
   "execution_count": 1,
   "metadata": {},
   "outputs": [
    {
     "ename": "TypeError",
     "evalue": "unsupported operand type(s) for /: 'str' and 'int'",
     "output_type": "error",
     "traceback": [
      "\u001b[0;31m---------------------------------------------------------------------------\u001b[0m",
      "\u001b[0;31mTypeError\u001b[0m                                 Traceback (most recent call last)",
      "\u001b[0;32m<ipython-input-1-92aecf0cdd94>\u001b[0m in \u001b[0;36m<module>\u001b[0;34m\u001b[0m\n\u001b[0;32m----> 1\u001b[0;31m \u001b[0;34m'Hi'\u001b[0m\u001b[0;34m/\u001b[0m\u001b[0;36m2\u001b[0m\u001b[0;34m\u001b[0m\u001b[0;34m\u001b[0m\u001b[0m\n\u001b[0m",
      "\u001b[0;31mTypeError\u001b[0m: unsupported operand type(s) for /: 'str' and 'int'"
     ]
    }
   ],
   "source": []
  },
  {
   "cell_type": "code",
   "execution_count": null,
   "metadata": {},
   "outputs": [],
   "source": []
  }
 ],
 "metadata": {
  "colab": {
   "name": "1.2.ipynb",
   "provenance": []
  },
  "kernelspec": {
   "display_name": "Python 3",
   "language": "python",
   "name": "python3"
  },
  "language_info": {
   "codemirror_mode": {
    "name": "ipython",
    "version": 3
   },
   "file_extension": ".py",
   "mimetype": "text/x-python",
   "name": "python",
   "nbconvert_exporter": "python",
   "pygments_lexer": "ipython3",
   "version": "3.8.5"
  }
 },
 "nbformat": 4,
 "nbformat_minor": 1
}
