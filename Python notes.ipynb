{
 "cells": [
  {
   "cell_type": "code",
   "execution_count": 1,
   "id": "3e77aec8",
   "metadata": {},
   "outputs": [
    {
     "data": {
      "text/plain": [
       "(2, 'pooja')"
      ]
     },
     "execution_count": 1,
     "metadata": {},
     "output_type": "execute_result"
    }
   ],
   "source": [
    "d1=(2,\"pooja\")\n",
    "d1\n",
    "\n"
   ]
  },
  {
   "cell_type": "code",
   "execution_count": 2,
   "id": "ad351142",
   "metadata": {},
   "outputs": [
    {
     "data": {
      "text/plain": [
       "tuple"
      ]
     },
     "execution_count": 2,
     "metadata": {},
     "output_type": "execute_result"
    }
   ],
   "source": [
    "type(d1) # Chake the type of variable"
   ]
  },
  {
   "cell_type": "markdown",
   "id": "26db18a5",
   "metadata": {},
   "source": [
    "## escape sequences "
   ]
  },
  {
   "cell_type": "code",
   "execution_count": 3,
   "id": "01e4aca6",
   "metadata": {},
   "outputs": [
    {
     "name": "stdout",
     "output_type": "stream",
     "text": [
      "whta's your name\n",
      "Hey,whats up?\n",
      "Hi i am pooja \u0007\n"
     ]
    }
   ],
   "source": [
    "\n",
    "print(\"whta\\'s your name\") \n",
    "\n",
    "print(\"Hey,whats up?\")\n",
    "\n",
    "#print(\"Unescaped backslashes at the end of string give an error\\\")\n",
    "\n",
    "print(\"Hi i am pooja \\a\")"
   ]
  },
  {
   "cell_type": "markdown",
   "id": "904c5ba3",
   "metadata": {},
   "source": [
    "## format "
   ]
  },
  {
   "cell_type": "code",
   "execution_count": 3,
   "id": "4b396225",
   "metadata": {},
   "outputs": [
    {
     "name": "stdout",
     "output_type": "stream",
     "text": [
      "My first name is pooja and last name is sinalkar\n"
     ]
    }
   ],
   "source": [
    "first_name='pooja'\n",
    "last_name='sinalkar'\n",
    "print(\"My first name is {} and last name is {}\".format(first_name,last_name))"
   ]
  },
  {
   "cell_type": "code",
   "execution_count": 4,
   "id": "c872b9ac",
   "metadata": {},
   "outputs": [
    {
     "name": "stdout",
     "output_type": "stream",
     "text": [
      "My first name is pooja and last name is sinalkar\n"
     ]
    }
   ],
   "source": [
    "print(\"My first name is {first} and last name is {last}\".format(last=last_name,first=first_name))"
   ]
  },
  {
   "cell_type": "markdown",
   "id": "3c83a483",
   "metadata": {},
   "source": [
    "## len :- To chake the length of the character or string"
   ]
  },
  {
   "cell_type": "code",
   "execution_count": 5,
   "id": "610c9afe",
   "metadata": {},
   "outputs": [
    {
     "data": {
      "text/plain": [
       "5"
      ]
     },
     "execution_count": 5,
     "metadata": {},
     "output_type": "execute_result"
    }
   ],
   "source": [
    "len('Krish')"
   ]
  },
  {
   "cell_type": "code",
   "execution_count": 7,
   "id": "32949ed0",
   "metadata": {},
   "outputs": [
    {
     "name": "stdout",
     "output_type": "stream",
     "text": [
      "12\n"
     ]
    }
   ],
   "source": [
    "str='Hello Python'\n",
    "print(len(str))"
   ]
  },
  {
   "cell_type": "markdown",
   "id": "6626a647",
   "metadata": {},
   "source": [
    "## Some built in functions in python"
   ]
  },
  {
   "cell_type": "code",
   "execution_count": 8,
   "id": "238df561",
   "metadata": {},
   "outputs": [],
   "source": [
    "str='Krish123'"
   ]
  },
  {
   "cell_type": "code",
   "execution_count": 9,
   "id": "544c7847",
   "metadata": {},
   "outputs": [
    {
     "name": "stdout",
     "output_type": "stream",
     "text": [
      "True\n"
     ]
    }
   ],
   "source": [
    "print(str.isalnum()) # Check if all char are numbers"
   ]
  },
  {
   "cell_type": "code",
   "execution_count": 18,
   "id": "604fa572",
   "metadata": {},
   "outputs": [
    {
     "name": "stdout",
     "output_type": "stream",
     "text": [
      "False\n",
      "True\n"
     ]
    }
   ],
   "source": [
    "print(str.isalpha()) # check if all char in the string are alphabetic\n",
    "str1='abcd'\n",
    "print(str1.isalpha())"
   ]
  },
  {
   "cell_type": "code",
   "execution_count": 11,
   "id": "1dc5684a",
   "metadata": {},
   "outputs": [
    {
     "name": "stdout",
     "output_type": "stream",
     "text": [
      "False\n"
     ]
    }
   ],
   "source": [
    "print(str.isdigit()) # test if string contains digits"
   ]
  },
  {
   "cell_type": "code",
   "execution_count": 12,
   "id": "7e2259a3",
   "metadata": {},
   "outputs": [
    {
     "name": "stdout",
     "output_type": "stream",
     "text": [
      "True\n"
     ]
    }
   ],
   "source": [
    "print(str.istitle()) # test if string contains titile words"
   ]
  },
  {
   "cell_type": "code",
   "execution_count": 13,
   "id": "c63514ba",
   "metadata": {},
   "outputs": [
    {
     "name": "stdout",
     "output_type": "stream",
     "text": [
      "False\n"
     ]
    }
   ],
   "source": [
    "print(str.isupper()) # test if string contains upper case"
   ]
  },
  {
   "cell_type": "code",
   "execution_count": 14,
   "id": "267845e3",
   "metadata": {},
   "outputs": [
    {
     "name": "stdout",
     "output_type": "stream",
     "text": [
      "False\n"
     ]
    }
   ],
   "source": [
    "print(str.islower()) # test if string contains lower case"
   ]
  },
  {
   "cell_type": "code",
   "execution_count": 25,
   "id": "75ac9841",
   "metadata": {},
   "outputs": [
    {
     "name": "stdout",
     "output_type": "stream",
     "text": [
      "False\n"
     ]
    }
   ],
   "source": [
    "print(str.isspace()) # test if string contains spaces"
   ]
  },
  {
   "cell_type": "code",
   "execution_count": 16,
   "id": "158ef080",
   "metadata": {},
   "outputs": [
    {
     "name": "stdout",
     "output_type": "stream",
     "text": [
      "False\n"
     ]
    }
   ],
   "source": [
    "print(str.endswith('k')) # test if string endswith a k"
   ]
  },
  {
   "cell_type": "code",
   "execution_count": 17,
   "id": "f3a737da",
   "metadata": {},
   "outputs": [
    {
     "name": "stdout",
     "output_type": "stream",
     "text": [
      "True\n"
     ]
    }
   ],
   "source": [
    "print(str.startswith('K')) #test if string starts with H"
   ]
  },
  {
   "cell_type": "code",
   "execution_count": 7,
   "id": "866985c7",
   "metadata": {},
   "outputs": [
    {
     "name": "stdout",
     "output_type": "stream",
     "text": [
      "False\n"
     ]
    }
   ],
   "source": [
    "string = \"ihavedoneBScinmathematic\" # after removing the spaces it gives value true\n",
    "print(my_string.isalnum())"
   ]
  },
  {
   "cell_type": "code",
   "execution_count": 8,
   "id": "2daf557c",
   "metadata": {},
   "outputs": [
    {
     "name": "stdout",
     "output_type": "stream",
     "text": [
      "True\n"
     ]
    }
   ],
   "source": [
    "string2=\"Welcome home\"\n",
    "print(string2.endswith(\"home\"))      "
   ]
  },
  {
   "cell_type": "code",
   "execution_count": 9,
   "id": "570370e2",
   "metadata": {},
   "outputs": [
    {
     "data": {
      "text/plain": [
       "2"
      ]
     },
     "execution_count": 9,
     "metadata": {},
     "output_type": "execute_result"
    }
   ],
   "source": [
    "string2.count('o')"
   ]
  },
  {
   "cell_type": "code",
   "execution_count": 10,
   "id": "6f2347ac",
   "metadata": {},
   "outputs": [
    {
     "data": {
      "text/plain": [
       "'Welcome home'"
      ]
     },
     "execution_count": 10,
     "metadata": {},
     "output_type": "execute_result"
    }
   ],
   "source": [
    "string2.capitalize()"
   ]
  },
  {
   "cell_type": "code",
   "execution_count": 11,
   "id": "05d77f01",
   "metadata": {},
   "outputs": [
    {
     "data": {
      "text/plain": [
       "5"
      ]
     },
     "execution_count": 11,
     "metadata": {},
     "output_type": "execute_result"
    }
   ],
   "source": [
    "string2.find('m')"
   ]
  },
  {
   "cell_type": "code",
   "execution_count": 12,
   "id": "8cba61fd",
   "metadata": {},
   "outputs": [
    {
     "data": {
      "text/plain": [
       "'Welcome new home'"
      ]
     },
     "execution_count": 12,
     "metadata": {},
     "output_type": "execute_result"
    }
   ],
   "source": [
    "string2.replace('home','new home')"
   ]
  },
  {
   "cell_type": "markdown",
   "id": "935f242b",
   "metadata": {},
   "source": [
    "# list in python:-\n",
    "- List is the collection of the items\n",
    "- A list is a data structure in Python that is a mutable, or changeable, ordered sequence of elements. Each element or value that is inside of a list is called an item. Just as strings are defined as characters between quotes, lists are defined by having values between square brackets [ ]"
   ]
  },
  {
   "cell_type": "code",
   "execution_count": 14,
   "id": "3f4b05cd",
   "metadata": {},
   "outputs": [
    {
     "name": "stdout",
     "output_type": "stream",
     "text": [
      "['rohan', 'radhika', 5, 'anamika', 56]\n",
      "anamika\n"
     ]
    }
   ],
   "source": [
    "student=[\"rohan\",\"radhika\",5,\"anamika\",56]\n",
    "print(student)\n",
    "print(student[3])"
   ]
  },
  {
   "cell_type": "code",
   "execution_count": 26,
   "id": "23ff6fa5",
   "metadata": {},
   "outputs": [
    {
     "name": "stdout",
     "output_type": "stream",
     "text": [
      "['A', 'B', 'C', 1, 2, 3]\n",
      "[1, 5, 2, 3]\n",
      "['A', 'B', 1, 2, 3]\n",
      "[]\n"
     ]
    }
   ],
   "source": [
    "l1=['A','B','C']\n",
    "l2=[1,2,3]\n",
    "l1.extend(l2)\n",
    "print(l1)\n",
    "l2.insert(1,5) # here 5 is insert in the index position 1\n",
    "print(l2)\n",
    "l1.remove('C') # remove item using del and pop methods also\n",
    "print(l1)\n",
    "l1.clear() # to clear list\n",
    "print(l1)"
   ]
  },
  {
   "cell_type": "code",
   "execution_count": 29,
   "id": "27f89100",
   "metadata": {},
   "outputs": [
    {
     "name": "stdout",
     "output_type": "stream",
     "text": [
      "[2, 3, 7, 9, 11]\n",
      "[9.1, 65, 85, 4]\n"
     ]
    }
   ],
   "source": [
    "marks=[2, 7, 9, 11, 3]\n",
    "marks.sort() #print(mark.sort()) is not working gives none value\n",
    "print(marks)\n",
    "\n",
    "mark=[4,85,65,9.1]\n",
    "mark.reverse() #print(mark.reverse()) is not working gives none value\n",
    "print(mark)"
   ]
  },
  {
   "cell_type": "code",
   "execution_count": 30,
   "id": "82e16779",
   "metadata": {},
   "outputs": [
    {
     "name": "stdout",
     "output_type": "stream",
     "text": [
      "[2, 3, 7, 9, 11]\n"
     ]
    }
   ],
   "source": [
    "print(marks[:])"
   ]
  },
  {
   "cell_type": "code",
   "execution_count": 31,
   "id": "0d0d3b11",
   "metadata": {},
   "outputs": [
    {
     "name": "stdout",
     "output_type": "stream",
     "text": [
      "[3, 9]\n",
      "2\n",
      "[2, 3, 7, 9, 11, 5]\n",
      "[2, 3, 7, 9, 11]\n"
     ]
    }
   ],
   "source": [
    "print(marks[1:5:2])\n",
    "print(min(marks))\n",
    "marks.append(5) # deu to runing command again again it adds 5 for 5 times\n",
    "print(marks)\n",
    "marks.pop()\n",
    "print(marks)\n"
   ]
  },
  {
   "cell_type": "code",
   "execution_count": 34,
   "id": "a5d2f8ff",
   "metadata": {},
   "outputs": [
    {
     "name": "stdout",
     "output_type": "stream",
     "text": [
      "[2, 3, 7, 9, 9]\n",
      "30\n"
     ]
    }
   ],
   "source": [
    "marks[4]=9 # 11 is replace by 9\n",
    "print(marks)\n",
    "print(sum(marks))"
   ]
  },
  {
   "cell_type": "code",
   "execution_count": 39,
   "id": "c01fe7e9",
   "metadata": {},
   "outputs": [
    {
     "data": {
      "text/plain": [
       "[2, 3, 7, 9, 9, 2, 3, 7, 9, 9]"
      ]
     },
     "execution_count": 39,
     "metadata": {},
     "output_type": "execute_result"
    }
   ],
   "source": [
    "marks* 2 # it will print the list 2 times\n"
   ]
  },
  {
   "cell_type": "markdown",
   "id": "87856c7a",
   "metadata": {},
   "source": [
    "## count():Calculates total occurrence of given element of List"
   ]
  },
  {
   "cell_type": "code",
   "execution_count": 42,
   "id": "39259e51",
   "metadata": {},
   "outputs": [
    {
     "data": {
      "text/plain": [
       "0"
      ]
     },
     "execution_count": 42,
     "metadata": {},
     "output_type": "execute_result"
    }
   ],
   "source": [
    "marks.count(1)"
   ]
  },
  {
   "cell_type": "code",
   "execution_count": 43,
   "id": "7bfb9f48",
   "metadata": {},
   "outputs": [
    {
     "data": {
      "text/plain": [
       "1"
      ]
     },
     "execution_count": 43,
     "metadata": {},
     "output_type": "execute_result"
    }
   ],
   "source": [
    "marks.count(2)"
   ]
  },
  {
   "cell_type": "markdown",
   "id": "639b189b",
   "metadata": {},
   "source": [
    "## index(): \n",
    "## Returns the index of first occurrence. Start and End index are not necessary parameters"
   ]
  },
  {
   "cell_type": "code",
   "execution_count": 46,
   "id": "7b1cfac3",
   "metadata": {},
   "outputs": [
    {
     "data": {
      "text/plain": [
       "1"
      ]
     },
     "execution_count": 46,
     "metadata": {},
     "output_type": "execute_result"
    }
   ],
   "source": [
    "marks.index(3,1,4)"
   ]
  },
  {
   "cell_type": "markdown",
   "id": "0dac7820",
   "metadata": {},
   "source": [
    "# SETS"
   ]
  },
  {
   "cell_type": "markdown",
   "id": "d2367a82",
   "metadata": {},
   "source": [
    "A set is unordered collection data type that is iterable, mutable, and \n",
    "has no duplicate elements. "
   ]
  },
  {
   "cell_type": "code",
   "execution_count": 1,
   "id": "bbfd7a98",
   "metadata": {},
   "outputs": [
    {
     "name": "stdout",
     "output_type": "stream",
     "text": [
      "set()\n",
      "<class 'set'>\n"
     ]
    }
   ],
   "source": [
    "# defining an empty set\n",
    "set_var=set()\n",
    "print(set_var)\n",
    "print(type(set_var))"
   ]
  },
  {
   "cell_type": "code",
   "execution_count": 2,
   "id": "b54039fd",
   "metadata": {},
   "outputs": [
    {
     "data": {
      "text/plain": [
       "{1, 2, 3, 5, 6}"
      ]
     },
     "execution_count": 2,
     "metadata": {},
     "output_type": "execute_result"
    }
   ],
   "source": [
    "set_var={1,2,3,5,6}\n",
    "set_var"
   ]
  },
  {
   "cell_type": "code",
   "execution_count": 3,
   "id": "9aea1907",
   "metadata": {},
   "outputs": [
    {
     "name": "stdout",
     "output_type": "stream",
     "text": [
      "{'Hitman', 'IronMan', 'Avengers'}\n"
     ]
    }
   ],
   "source": [
    "set_var={\"Avengers\",\"IronMan\",\"Hitman\"}\n",
    "print(set_var)"
   ]
  },
  {
   "cell_type": "code",
   "execution_count": 27,
   "id": "f9534e95",
   "metadata": {},
   "outputs": [
    {
     "ename": "TypeError",
     "evalue": "'set' object is not subscriptable",
     "output_type": "error",
     "traceback": [
      "\u001b[1;31m---------------------------------------------------------------------------\u001b[0m",
      "\u001b[1;31mTypeError\u001b[0m                                 Traceback (most recent call last)",
      "Input \u001b[1;32mIn [27]\u001b[0m, in \u001b[0;36m<cell line: 1>\u001b[1;34m()\u001b[0m\n\u001b[1;32m----> 1\u001b[0m \u001b[43mset_var\u001b[49m\u001b[43m[\u001b[49m\u001b[38;5;241;43m0\u001b[39;49m\u001b[43m]\u001b[49m\n",
      "\u001b[1;31mTypeError\u001b[0m: 'set' object is not subscriptable"
     ]
    }
   ],
   "source": [
    "set_var[0] # we can not do indexing in set"
   ]
  },
  {
   "cell_type": "code",
   "execution_count": 5,
   "id": "9af339f2",
   "metadata": {},
   "outputs": [
    {
     "data": {
      "text/plain": [
       "{'Avengers', 'Hitman', 'Hulk', 'IronMan'}"
      ]
     },
     "execution_count": 5,
     "metadata": {},
     "output_type": "execute_result"
    }
   ],
   "source": [
    "# To add element in a set\n",
    "set_var.add(\"Hulk\")\n",
    "set_var"
   ]
  },
  {
   "cell_type": "code",
   "execution_count": 20,
   "id": "7df67215",
   "metadata": {},
   "outputs": [
    {
     "data": {
      "text/plain": [
       "{'Avengers', 'Hitman', 'IronMan'}"
      ]
     },
     "execution_count": 20,
     "metadata": {},
     "output_type": "execute_result"
    }
   ],
   "source": [
    "set1={\"Avengers\",\"IronMan\",\"Hitman\"}\n",
    "set2={\"Avengers\",\"IronMan\",\"Hitman\",\"Hulk2\"}\n",
    "set2.intersection(set1)"
   ]
  },
  {
   "cell_type": "code",
   "execution_count": 7,
   "id": "ed385065",
   "metadata": {},
   "outputs": [
    {
     "data": {
      "text/plain": [
       "{'Avengers', 'Hitman', 'Hulk2', 'IronMan'}"
      ]
     },
     "execution_count": 7,
     "metadata": {},
     "output_type": "execute_result"
    }
   ],
   "source": [
    "set2 # This will not update on set2 it will only give the intersection"
   ]
  },
  {
   "cell_type": "code",
   "execution_count": 8,
   "id": "6aac5953",
   "metadata": {},
   "outputs": [
    {
     "data": {
      "text/plain": [
       "{'Avengers', 'Hitman', 'IronMan'}"
      ]
     },
     "execution_count": 8,
     "metadata": {},
     "output_type": "execute_result"
    }
   ],
   "source": [
    "set2.intersection_update(set1)\n",
    "set2"
   ]
  },
  {
   "cell_type": "code",
   "execution_count": 13,
   "id": "b0b5ecc7",
   "metadata": {},
   "outputs": [
    {
     "data": {
      "text/plain": [
       "{'Hulk2'}"
      ]
     },
     "execution_count": 13,
     "metadata": {},
     "output_type": "execute_result"
    }
   ],
   "source": [
    "set2.difference(set1)"
   ]
  },
  {
   "cell_type": "code",
   "execution_count": 14,
   "id": "ca74e836",
   "metadata": {},
   "outputs": [
    {
     "data": {
      "text/plain": [
       "{'Avengers', 'Hitman', 'Hulk2', 'IronMan'}"
      ]
     },
     "execution_count": 14,
     "metadata": {},
     "output_type": "execute_result"
    }
   ],
   "source": [
    "set2"
   ]
  },
  {
   "cell_type": "code",
   "execution_count": 22,
   "id": "67ef8d43",
   "metadata": {},
   "outputs": [
    {
     "data": {
      "text/plain": [
       "{'Hulk2'}"
      ]
     },
     "execution_count": 22,
     "metadata": {},
     "output_type": "execute_result"
    }
   ],
   "source": [
    "set2.difference_update(set1) # It will update the difference in set2\n",
    "set2"
   ]
  },
  {
   "cell_type": "markdown",
   "id": "ac5c8043",
   "metadata": {},
   "source": [
    "# Tuple in Python"
   ]
  },
  {
   "cell_type": "markdown",
   "id": "f4a9c8e5",
   "metadata": {},
   "source": [
    "We can not change the elements of tuples once created."
   ]
  },
  {
   "cell_type": "code",
   "execution_count": 23,
   "id": "d0a1d6a8",
   "metadata": {},
   "outputs": [
    {
     "name": "stdout",
     "output_type": "stream",
     "text": [
      "(5, 5, 6, 9)\n"
     ]
    }
   ],
   "source": [
    "t1=(5,5,6,9) # we cant change tuple hence tuple is immutable\n",
    "print(t1)\n"
   ]
  },
  {
   "cell_type": "code",
   "execution_count": 24,
   "id": "87f2b0f4",
   "metadata": {},
   "outputs": [
    {
     "data": {
      "text/plain": [
       "2"
      ]
     },
     "execution_count": 24,
     "metadata": {},
     "output_type": "execute_result"
    }
   ],
   "source": [
    "t1.count(5)"
   ]
  },
  {
   "cell_type": "code",
   "execution_count": 26,
   "id": "a3085b82",
   "metadata": {},
   "outputs": [
    {
     "data": {
      "text/plain": [
       "3"
      ]
     },
     "execution_count": 26,
     "metadata": {},
     "output_type": "execute_result"
    }
   ],
   "source": [
    "t1.index(9)"
   ]
  },
  {
   "cell_type": "code",
   "execution_count": 33,
   "id": "87072553",
   "metadata": {},
   "outputs": [
    {
     "name": "stdout",
     "output_type": "stream",
     "text": [
      "4\n",
      "(5, 6, 9)\n",
      "(5, 5, 6, 9)\n",
      "[5, 5, 6, 9]\n",
      "[5, 5, 6, 3]\n",
      "<class 'list'>\n"
     ]
    }
   ],
   "source": [
    "print(len(t1))\n",
    "\n",
    "# Accessing the value by using index\n",
    "print(t1[1:6])\n",
    "print(t1[-4:])\n",
    "\n",
    "#convert tuple into list\n",
    "x=list(t1)\n",
    "print(x)\n",
    "x[3]=3\n",
    "print(x)\n",
    "print(type(x))\n"
   ]
  },
  {
   "cell_type": "markdown",
   "id": "c04c77a2",
   "metadata": {},
   "source": [
    "# loops with tuple"
   ]
  },
  {
   "cell_type": "code",
   "execution_count": 36,
   "id": "b3eaef8f",
   "metadata": {},
   "outputs": [
    {
     "name": "stdout",
     "output_type": "stream",
     "text": [
      "5\n",
      "5\n",
      "6\n",
      "3\n"
     ]
    }
   ],
   "source": [
    "for i in x:\n",
    "    print(i)"
   ]
  },
  {
   "cell_type": "code",
   "execution_count": 38,
   "id": "7dd818f5",
   "metadata": {},
   "outputs": [
    {
     "name": "stdout",
     "output_type": "stream",
     "text": [
      "[5, 5, 6, 3]\n",
      "5\n",
      "5\n",
      "6\n",
      "3\n",
      "finish loop\n"
     ]
    }
   ],
   "source": [
    "# while loop\n",
    "print(x)\n",
    "i=0\n",
    "\n",
    "while i<len(x):\n",
    "    print(x[i])\n",
    "    i+=1\n",
    "else:\n",
    "    print(\"finish loop\")\n",
    "    "
   ]
  },
  {
   "cell_type": "code",
   "execution_count": 40,
   "id": "3ca8b73c",
   "metadata": {},
   "outputs": [
    {
     "name": "stdout",
     "output_type": "stream",
     "text": [
      "False\n",
      "True\n"
     ]
    }
   ],
   "source": [
    "# How to compare tuples\n",
    "t1=(1,2,3)\n",
    "t2=(2,3,5)\n",
    "\n",
    "print(t1==t2)\n",
    "print(t1<t2)"
   ]
  },
  {
   "cell_type": "markdown",
   "id": "298cc1bf",
   "metadata": {},
   "source": [
    "# dictionary :-\n",
    "- nothing but key value pair. \n",
    "- A dictionary is a collection which is unordered, changeable and indexed"
   ]
  },
  {
   "cell_type": "code",
   "execution_count": 20,
   "id": "9adeb166",
   "metadata": {},
   "outputs": [
    {
     "name": "stdout",
     "output_type": "stream",
     "text": [
      "{'rahul': 4, 'rohit': 5, 'marks': {'rohit': 89, 'rahul': 80}}\n",
      "4\n",
      "80\n",
      "{'rahul': 4, 'rohit': 5, 'marks': {'rohit': 89, 'rahul': 80}, 'radhika': 6}\n",
      "{'rahul': 4, 'rohit': 5, 'marks': {'rohit': 89, 'rahul': 80, 'radhika': 60}, 'radhika': 6}\n"
     ]
    }
   ],
   "source": [
    "d1={'rahul':4,'rohit':5,'marks':{'rohit':89,'rahul':80}}\n",
    "print(d1)\n",
    "print(d1['rahul'])\n",
    "print(d1['marks']['rahul'])\n",
    "d1['radhika']=6\n",
    "print(d1)\n",
    "d1['marks']['radhika']=60\n",
    "print(d1)\n"
   ]
  },
  {
   "cell_type": "code",
   "execution_count": 21,
   "id": "3a383635",
   "metadata": {},
   "outputs": [
    {
     "name": "stdout",
     "output_type": "stream",
     "text": [
      "{'rohit': 5, 'marks': {'rohit': 89, 'rahul': 80, 'radhika': 60}, 'radhika': 6}\n"
     ]
    }
   ],
   "source": [
    "del d1['rahul']\n",
    "print(d1)"
   ]
  },
  {
   "cell_type": "code",
   "execution_count": 22,
   "id": "28e1e6dc",
   "metadata": {},
   "outputs": [
    {
     "name": "stdout",
     "output_type": "stream",
     "text": [
      "{'rohit': 5, 'marks': {'rohit': 89, 'rahul': 80, 'radhika': 60}, 'radhika': 6}\n",
      "{'rohit': 5, 'marks': {'rohit': 89, 'rahul': 80, 'radhika': 60}, 'radhika': 6}\n"
     ]
    }
   ],
   "source": [
    "d2 = d1.copy()\n",
    "#del d2['marks']['radhika']\n",
    "print(d2)\n",
    "print(d1)"
   ]
  },
  {
   "cell_type": "code",
   "execution_count": 23,
   "id": "1ef0a015",
   "metadata": {},
   "outputs": [
    {
     "name": "stdout",
     "output_type": "stream",
     "text": [
      "{'rohit': 7, 'marks': {'rohit': 89, 'rahul': 80, 'radhika': 60}, 'radhika': 6}\n"
     ]
    }
   ],
   "source": [
    "d2.update({'rohit':7})\n",
    "print(d2)"
   ]
  },
  {
   "cell_type": "code",
   "execution_count": 24,
   "id": "7e1c06a9",
   "metadata": {},
   "outputs": [
    {
     "name": "stdout",
     "output_type": "stream",
     "text": [
      "dict_keys(['rohit', 'marks', 'radhika'])\n",
      "dict_items([('rohit', 7), ('marks', {'rohit': 89, 'rahul': 80, 'radhika': 60}), ('radhika', 6)])\n",
      "dict_values([7, {'rohit': 89, 'rahul': 80, 'radhika': 60}, 6])\n"
     ]
    }
   ],
   "source": [
    "print(d2.keys())\n",
    "print(d2.items()) # it gives both keys and values\n",
    "print(d2.values())"
   ]
  },
  {
   "cell_type": "code",
   "execution_count": 28,
   "id": "a9838b2a",
   "metadata": {},
   "outputs": [
    {
     "name": "stdout",
     "output_type": "stream",
     "text": [
      "Enter the name:rohit\n",
      "5\n"
     ]
    }
   ],
   "source": [
    "#create the dictionary and take input from the user and return the \n",
    "#meaning of the word from the dictionary\n",
    "d1={'rahul':4,'rohit':5,'marks':{'rohit':89,'rahul':80}}\n",
    "name=input(\"Enter the name:\")\n",
    "print(d1[name])\n"
   ]
  },
  {
   "cell_type": "code",
   "execution_count": 31,
   "id": "e692af98",
   "metadata": {},
   "outputs": [
    {
     "name": "stdout",
     "output_type": "stream",
     "text": [
      "89\n"
     ]
    }
   ],
   "source": [
    "#Access the elements in nested dictionary\n",
    "print(d1['marks']['rohit'])"
   ]
  },
  {
   "cell_type": "code",
   "execution_count": 27,
   "id": "7abba6e6",
   "metadata": {},
   "outputs": [
    {
     "name": "stdout",
     "output_type": "stream",
     "text": [
      "{1, 2, 5, 6}\n",
      "{1, 2, 3, 5, 6}\n",
      "{2, 5, 6}\n",
      "{1, 2, 3, 5, 6, 8, 9}\n",
      "9\n"
     ]
    }
   ],
   "source": [
    "# set in python,it store unique values is the difference between list and set\n",
    "my_set=set([1,2,5,5,6])\n",
    "print(my_set)\n",
    "my_set.add(3)\n",
    "print(my_set)\n",
    "s=([2,6,5,8,9]) #list\n",
    "print(my_set.intersection(s))\n",
    "print(my_set.union(s))\n",
    "print(max(s))"
   ]
  },
  {
   "cell_type": "code",
   "execution_count": 28,
   "id": "f5b88b3d",
   "metadata": {},
   "outputs": [
    {
     "name": "stdout",
     "output_type": "stream",
     "text": [
      "False\n",
      "False\n",
      "{1, 2, 3, 5, 6}\n"
     ]
    }
   ],
   "source": [
    "print(my_set.isdisjoint(s))\n",
    "s=set([2,6,5,8,9])\n",
    "print(s.isdisjoint(my_set))\n",
    "#my_set.remove(5)\n",
    "\n",
    "#my_set.remove(9)\n",
    "print(my_set)\n"
   ]
  },
  {
   "cell_type": "code",
   "execution_count": 29,
   "id": "bd021b68",
   "metadata": {},
   "outputs": [
    {
     "name": "stdout",
     "output_type": "stream",
     "text": [
      "9\n",
      "5\n",
      "30\n",
      "3.5\n",
      "1\n",
      "4\n",
      "3\n",
      "3\n",
      "49\n"
     ]
    }
   ],
   "source": [
    "#add 7+2 below\n",
    "x=7+2\n",
    "print(x)\n",
    "#subtract 2 from 7 below\n",
    "print(7-2)\n",
    "#multiply 5 and 6 below\n",
    "print(5*6)\n",
    "#divide 7 by 2 below\n",
    "print(7/2)\n",
    "#remainder when 7 divide by 2\n",
    "print(7%2)\n",
    "#divide 7 by 2 nd round to the nearest integer\n",
    "print(round(7/2))\n",
    "print(int(7/2))\n",
    "print(7//2)\n",
    "#7 raise to the power 2 below\n",
    "print(7**2)"
   ]
  },
  {
   "cell_type": "code",
   "execution_count": 30,
   "id": "a53353e8",
   "metadata": {},
   "outputs": [
    {
     "name": "stdout",
     "output_type": "stream",
     "text": [
      "6.25\n"
     ]
    }
   ],
   "source": [
    "#use of round\n",
    "print(round(25/4,2))"
   ]
  },
  {
   "cell_type": "code",
   "execution_count": 31,
   "id": "0e35fa70",
   "metadata": {},
   "outputs": [
    {
     "name": "stdout",
     "output_type": "stream",
     "text": [
      "1440.0\n"
     ]
    }
   ],
   "source": [
    "'''you're going to do some calculations for your bills. Your net expenditure for the past 5 months\n",
    "has been 1200, 2000, 800, 1500 and 1700. What is your average monthly expenditure.'''\n",
    "\n",
    "expenditure=1200+2000+800+1500+1700\n",
    "Average=(expenditure)/5\n",
    "print(Average)"
   ]
  },
  {
   "cell_type": "code",
   "execution_count": 32,
   "id": "d660eb05",
   "metadata": {},
   "outputs": [
    {
     "name": "stdout",
     "output_type": "stream",
     "text": [
      "Needed Tiles are 89\n",
      "The tiles left are 13\n"
     ]
    }
   ],
   "source": [
    "'''Two rooms in a house needs to be filled. One room is 4 ft wide by 11 ft \n",
    "long, the other is 5 ft wide by 9 ft long. Tiles come in packages of 7 and each tile is 1ftx1ft in size\n",
    "\n",
    "1) How many tiles are needed?\n",
    "2) You buy 17 packages each containing 6 tiles each. How many tiles will be left over?  '''\n",
    "\n",
    "Area_r1=4*11\n",
    "Area_r2=5*9\n",
    "Tiles_req=(Area_r1+Area_r2)\n",
    "\n",
    "print(\"Needed Tiles are\",Tiles_req)\n",
    "left_tiles=(17*6) - Tiles_req\n",
    "print(\"The tiles left are\",left_tiles)\n"
   ]
  },
  {
   "cell_type": "code",
   "execution_count": 36,
   "id": "89ccc0c9",
   "metadata": {},
   "outputs": [
    {
     "name": "stdout",
     "output_type": "stream",
     "text": [
      "<class 'complex'>\n",
      "Addition of c+d : (10+13j)\n"
     ]
    }
   ],
   "source": [
    "c = 4 + 8j\n",
    "print(type(c))\n",
    "\n",
    "d = 6 + 5j\n",
    "print(\"Addition of c+d :\",c+d)\n"
   ]
  },
  {
   "cell_type": "code",
   "execution_count": 43,
   "id": "2ce4b4b8",
   "metadata": {},
   "outputs": [
    {
     "name": "stdout",
     "output_type": "stream",
     "text": [
      "False\n",
      "True\n",
      "True\n"
     ]
    }
   ],
   "source": [
    "l1=[1,4,5,6]\n",
    "l2=[1,4,5,6]\n",
    "l3=l1\n",
    "print(l1 is l2)\n",
    "print(l1 is l3) # identity operator\n",
    "\n",
    "print(1 in l1) # membership operator"
   ]
  },
  {
   "cell_type": "markdown",
   "id": "a841807c",
   "metadata": {},
   "source": [
    "# Module - 1 Assignment"
   ]
  },
  {
   "cell_type": "code",
   "execution_count": 47,
   "id": "e822586a",
   "metadata": {},
   "outputs": [
    {
     "name": "stdout",
     "output_type": "stream",
     "text": [
      "Hello Python\n",
      "45\n",
      "Enter the value :5\n",
      "5\n",
      "Enter the value 1:5\n",
      "Enter the value 2:6\n",
      "The sum of l and m is  11\n"
     ]
    }
   ],
   "source": [
    "# write a program to print a string \"Hello Python\"\n",
    "a=\"Hello Python\"\n",
    "print(a)\n",
    "#write a program to store one value in variable and print that variable\n",
    "b=45\n",
    "print(b)\n",
    "# write a program to take value from user input and print that value\n",
    "c=input(\"Enter the value :\")\n",
    "print(c)\n",
    "# write a program to do a sum of two value\n",
    "l=int(input(\"Enter the value 1:\"))\n",
    "m=int(input(\"Enter the value 2:\"))\n",
    "print(\"The sum of l and m is \",l+m)"
   ]
  },
  {
   "cell_type": "code",
   "execution_count": 50,
   "id": "aff35157",
   "metadata": {},
   "outputs": [
    {
     "name": "stdout",
     "output_type": "stream",
     "text": [
      "Enter the value 1:5\n",
      "Enter the value 2:5\n",
      "The sum of l1 and m1 is  1.0\n",
      "True\n"
     ]
    }
   ],
   "source": [
    "#write a program to perform division using variables\n",
    "l1=int(input(\"Enter the value 1:\"))\n",
    "m1=int(input(\"Enter the value 2:\"))\n",
    "print(\"The sum of l1 and m1 is \",l1/m1)\n",
    "# write a program to take two integer value from the user and check both the values are same\n",
    "print(l1==m1)"
   ]
  },
  {
   "cell_type": "code",
   "execution_count": 5,
   "id": "2bf58c23",
   "metadata": {},
   "outputs": [
    {
     "name": "stdout",
     "output_type": "stream",
     "text": [
      "hello world\n",
      "Hello World\n",
      "    Hello World     \n"
     ]
    }
   ],
   "source": [
    "a = \"Hello World\"\n",
    "print(a.casefold()) # use to make uppercase lowercase\n",
    "print(a)\n",
    "print(a.center(20)) "
   ]
  },
  {
   "cell_type": "markdown",
   "id": "061f7ebd",
   "metadata": {},
   "source": [
    "# Dictionary in python\n",
    "\n",
    "we store two repeated value but they having different key values.\n",
    "keys are immutable.and value could be immutable or muttable or both which depends upon what value you are storing."
   ]
  },
  {
   "cell_type": "code",
   "execution_count": 1,
   "id": "8aa9d461",
   "metadata": {},
   "outputs": [
    {
     "name": "stdout",
     "output_type": "stream",
     "text": [
      "{1: 'Apple', 2: 'Mango', 3: 'Apple'}\n"
     ]
    }
   ],
   "source": [
    "dict={1:\"Apple\",2:\"Mango\",3:\"Apple\"}\n",
    "print(dict)"
   ]
  },
  {
   "cell_type": "code",
   "execution_count": 36,
   "id": "3baeab98",
   "metadata": {},
   "outputs": [
    {
     "name": "stdout",
     "output_type": "stream",
     "text": [
      "{1: 'Apple', 2: 'Mango', 'fruit': ['Apple', 'Mango']}\n",
      "['Apple', 'Mango']\n",
      "Mango\n",
      "dict_items([(1, 'Apple'), (2, 'Mango'), ('fruit', ['Apple', 'Mango'])])\n"
     ]
    }
   ],
   "source": [
    "# List into dictionary also store tuple into dictionary\n",
    "d1={1:\"Apple\",2:\"Mango\",\"fruit\":[\"Apple\",\"Mango\"]}\n",
    "print(d1)\n",
    "print(d1[\"fruit\"])\n",
    "print(d1.get(2))\n",
    "\n",
    "# Access the value using item()\n",
    "d=d1.items()\n",
    "print(d)"
   ]
  },
  {
   "cell_type": "code",
   "execution_count": 37,
   "id": "abfddae1",
   "metadata": {},
   "outputs": [
    {
     "name": "stdout",
     "output_type": "stream",
     "text": [
      "{1: 'Apple', 2: 'Mango', 'fruit': ['Apple', 'orenge']}\n"
     ]
    }
   ],
   "source": [
    "# Change the value\n",
    "d1[\"fruit\"][1]=\"orenge\"\n",
    "print(d1)"
   ]
  },
  {
   "cell_type": "code",
   "execution_count": 38,
   "id": "bbfe9e93",
   "metadata": {},
   "outputs": [
    {
     "name": "stdout",
     "output_type": "stream",
     "text": [
      "{1: 'Apple', 2: 'kivi', 'fruit': 'kivi'}\n"
     ]
    }
   ],
   "source": [
    "#using update method\n",
    "d1.update({2:\"kivi\"})\n",
    "d1.update({\"fruit\":\"kivi\"})\n",
    "print(d1)"
   ]
  },
  {
   "cell_type": "code",
   "execution_count": 39,
   "id": "b1454a0c",
   "metadata": {},
   "outputs": [
    {
     "name": "stdout",
     "output_type": "stream",
     "text": [
      "{1: 'Apple', 'fruit': 'kivi'}\n"
     ]
    }
   ],
   "source": [
    "d1.pop(2) \n",
    "print(d1)"
   ]
  },
  {
   "cell_type": "code",
   "execution_count": 40,
   "id": "0ce2484b",
   "metadata": {},
   "outputs": [
    {
     "data": {
      "text/plain": [
       "{1: 'Apple'}"
      ]
     },
     "execution_count": 40,
     "metadata": {},
     "output_type": "execute_result"
    }
   ],
   "source": [
    "d1.popitem()# it remove last value from list\n",
    "d1"
   ]
  },
  {
   "cell_type": "code",
   "execution_count": 50,
   "id": "0a037fa0",
   "metadata": {},
   "outputs": [
    {
     "name": "stdout",
     "output_type": "stream",
     "text": [
      "dict_values(['A', 'B', 'c'])\n",
      "<built-in method keys of dict object at 0x000001A6F55D9F40>\n"
     ]
    }
   ],
   "source": [
    "d1={1:\"A\",2:\"B\",3:\"c\"}\n",
    "print(d1.values())\n",
    "print(d1.keys)"
   ]
  },
  {
   "cell_type": "markdown",
   "id": "e80d95c9",
   "metadata": {},
   "source": [
    " # Python Dicision Making"
   ]
  },
  {
   "cell_type": "code",
   "execution_count": 1,
   "id": "9a947081",
   "metadata": {},
   "outputs": [
    {
     "name": "stdout",
     "output_type": "stream",
     "text": [
      "Yes.He is a student\n"
     ]
    }
   ],
   "source": [
    "student=(\"Rahul\",\"Arya\",\"Kartik\",\"seema\",2,6,5,11)\n",
    "\n",
    "if \"Rahul\" in student:\n",
    "    print(\"Yes.He is a student\")\n",
    "else:\n",
    "    print(\"Invalid name\")"
   ]
  },
  {
   "cell_type": "code",
   "execution_count": 3,
   "id": "1f900059",
   "metadata": {},
   "outputs": [
    {
     "name": "stdout",
     "output_type": "stream",
     "text": [
      "1\n",
      "3\n",
      "5\n",
      "7\n",
      "9\n"
     ]
    }
   ],
   "source": [
    "for i in range(1,11,2): # range(start,stop,step)\n",
    "    print(i)"
   ]
  },
  {
   "cell_type": "code",
   "execution_count": 5,
   "id": "64fc2919",
   "metadata": {},
   "outputs": [
    {
     "name": "stdout",
     "output_type": "stream",
     "text": [
      "0\n",
      "1\n",
      "2\n",
      "3\n"
     ]
    }
   ],
   "source": [
    "for i in range(4):\n",
    "    print(i)"
   ]
  },
  {
   "cell_type": "code",
   "execution_count": 6,
   "id": "ad7fb8f9",
   "metadata": {},
   "outputs": [
    {
     "name": "stdout",
     "output_type": "stream",
     "text": [
      "2\n",
      "4\n",
      "6\n",
      "8\n"
     ]
    }
   ],
   "source": [
    "for i in range(2,10):\n",
    "    if i%2!=0:\n",
    "        continue\n",
    "    print(i)"
   ]
  },
  {
   "cell_type": "code",
   "execution_count": 7,
   "id": "f26877bd",
   "metadata": {},
   "outputs": [
    {
     "name": "stdout",
     "output_type": "stream",
     "text": [
      "['pune', 'new york', 'chicago', 'los angeles']\n"
     ]
    }
   ],
   "source": [
    "cities=[\"pune\",\"new york\",\"chicago\",\"los angeles\"]\n",
    "capitalized_cities=[]\n",
    "\n",
    "for i in cities:\n",
    "    capitalized_cities.append(i)\n",
    "print(capitalized_cities)"
   ]
  },
  {
   "cell_type": "code",
   "execution_count": 8,
   "id": "0d7a4850",
   "metadata": {},
   "outputs": [
    {
     "name": "stdout",
     "output_type": "stream",
     "text": [
      "['Pune', 'New York', 'Chicago', 'Los Angeles']\n"
     ]
    }
   ],
   "source": [
    "# Make first later capital\n",
    "cities=[\"Pune\",\"New York\",\"chicago\",\"los angeles\"]\n",
    "capitalized_cities=[]\n",
    "\n",
    "for i in cities:\n",
    "    capitalized_cities.append(i.title()) \n",
    "    # Return a version of the string where each word is titlecased\n",
    "print(capitalized_cities)"
   ]
  },
  {
   "cell_type": "code",
   "execution_count": 9,
   "id": "f93c5256",
   "metadata": {},
   "outputs": [
    {
     "name": "stdout",
     "output_type": "stream",
     "text": [
      "5\n",
      "10\n",
      "15\n",
      "20\n",
      "25\n"
     ]
    }
   ],
   "source": [
    "# Write a for loop using range() to print out multiples of 5 up to 30 inclusive\n",
    "\n",
    "for i in range(5,30,5):\n",
    "    print(i)"
   ]
  },
  {
   "cell_type": "code",
   "execution_count": 10,
   "id": "5fc979c7",
   "metadata": {},
   "outputs": [
    {
     "name": "stdout",
     "output_type": "stream",
     "text": [
      "['joey_tribbiani', 'monica_geller', 'chandler_bing', 'phoebe_buffay']\n"
     ]
    }
   ],
   "source": [
    "''''Write a for loop that iterates over the names list to create a usernames list.\n",
    "To create a username for each name, make everything lowercase and\n",
    "replace spaces with underscores. Running your for loop over the list:'''\n",
    "\n",
    "names = [\"Joey Tribbiani\", \"Monica Geller\", \"Chandler Bing\", \"Phoebe Buffay\"]\n",
    "usernames=[]\n",
    "    \n",
    "for i in names:\n",
    "    usernames.append(i.lower().replace(\" \",\"_\"))\n",
    "print(usernames)    "
   ]
  },
  {
   "cell_type": "code",
   "execution_count": 11,
   "id": "cea910e0",
   "metadata": {},
   "outputs": [
    {
     "name": "stdout",
     "output_type": "stream",
     "text": [
      "3\n"
     ]
    }
   ],
   "source": [
    "#Write a for loop that iterates over a list of strings, tokens, and counts how many of them are XML tags.\n",
    "tokens = ['<greeting>', 'Hello World!', '</greeting>','<Welcome>']\n",
    "\n",
    "count=0\n",
    "for i in tokens:\n",
    "    if i[0] == '<' and i[-1] == '>':\n",
    "        count += 1\n",
    "    \n",
    "print(count)    \n",
    "    "
   ]
  },
  {
   "cell_type": "code",
   "execution_count": 12,
   "id": "e751bdbc",
   "metadata": {},
   "outputs": [
    {
     "name": "stdout",
     "output_type": "stream",
     "text": [
      "<ul>\n",
      "<li>first string</li>\n",
      "<li>second string</li>\n",
      "</ul>\n"
     ]
    }
   ],
   "source": [
    "'''Write some code, including a for loop, that iterates over a list of strings and creates a\n",
    "single string, html_str, which is an HTML list. For example, if the list is \n",
    "items = ['first string', 'second string'], printing html_str should output:\n",
    "<ul>\n",
    "<li>first string</li>\n",
    "<li>second string</li>\n",
    "</ul>'''\n",
    "\n",
    "items = ['first string', 'second string']\n",
    "html_str='<ul>\\n'\n",
    "\n",
    "for i in items:\n",
    "    html_str+='<li>{}</li>\\n'.format(i)\n",
    "    \n",
    "html_str+='</ul>'\n",
    "\n",
    "print(html_str)\n",
    "\n",
    "\n"
   ]
  },
  {
   "cell_type": "code",
   "execution_count": 13,
   "id": "d3eeb969",
   "metadata": {},
   "outputs": [
    {
     "name": "stdout",
     "output_type": "stream",
     "text": [
      "Joey Tribbiani\n",
      "Monica Geller\n",
      "Phoebe Buffay\n",
      "Ross Geller\n"
     ]
    }
   ],
   "source": [
    "cast = {\n",
    "           \"Joey Tribbiani\": \"Joey Tribbiani\",\n",
    "           \"Monica Geller\": \"Chandler Bing\",\n",
    "           \"Phoebe Buffay\": \"Mike Hannigan\",\n",
    "           \"Ross Geller\": \"Rachel Green\"\n",
    "       }\n",
    "\n",
    "\n",
    "for key in cast:\n",
    "    print(key)"
   ]
  },
  {
   "cell_type": "code",
   "execution_count": 14,
   "id": "19816b1e",
   "metadata": {},
   "outputs": [
    {
     "name": "stdout",
     "output_type": "stream",
     "text": [
      "partner 1 : Joey Tribbiani  partner 2 : Joey Tribbiani\n",
      "partner 1 : Monica Geller  partner 2 : Chandler Bing\n",
      "partner 1 : Phoebe Buffay  partner 2 : Mike Hannigan\n",
      "partner 1 : Ross Geller  partner 2 : Rachel Green\n"
     ]
    }
   ],
   "source": [
    "for key,value in cast.items():\n",
    "    print('partner 1 : {}  partner 2 : {}'.format(key,value))"
   ]
  },
  {
   "cell_type": "code",
   "execution_count": 20,
   "id": "31106a7b",
   "metadata": {},
   "outputs": [
    {
     "name": "stdout",
     "output_type": "stream",
     "text": [
      "Rahul 11\n",
      "Riya 12\n",
      "Arnab 13\n"
     ]
    }
   ],
   "source": [
    "students={'Rahul':11,\"Riya\":12,\"Arnab\":13}\n",
    "for key,j in students.items():\n",
    "    print(key,j)"
   ]
  },
  {
   "cell_type": "code",
   "execution_count": 21,
   "id": "1422e899",
   "metadata": {},
   "outputs": [
    {
     "name": "stdout",
     "output_type": "stream",
     "text": [
      "There are 23 fruits in the basket.\n"
     ]
    }
   ],
   "source": [
    "result = 0\n",
    "basket_items = {'apples': 4, 'oranges': 19, 'kites': 3, 'sandwiches': 8}\n",
    "fruits = ['apples', 'oranges', 'pears', 'peaches', 'grapes', 'bananas']\n",
    "\n",
    "#Iterate through the dictionary\n",
    "for i,j in basket_items.items():\n",
    "    if i in fruits:\n",
    "        result +=j\n",
    "\n",
    "print(\"There are {} fruits in the basket.\".format(result))        \n"
   ]
  },
  {
   "cell_type": "code",
   "execution_count": 22,
   "id": "6d9ecc34",
   "metadata": {},
   "outputs": [
    {
     "name": "stdout",
     "output_type": "stream",
     "text": [
      "1\n",
      "2\n",
      "3\n",
      "4\n",
      "5\n",
      "i is no longer less than 6\n"
     ]
    }
   ],
   "source": [
    "i = 1\n",
    "while i < 6:\n",
    "    print(i)\n",
    "    i += 1\n",
    "else:\n",
    "    print(\"i is no longer less than 6\")"
   ]
  },
  {
   "cell_type": "code",
   "execution_count": 23,
   "id": "7aabfecc",
   "metadata": {},
   "outputs": [
    {
     "name": "stdout",
     "output_type": "stream",
     "text": [
      "b is greater\n"
     ]
    }
   ],
   "source": [
    "a=2\n",
    "b=6\n",
    "\n",
    "print(\"a is greater\") if a>b else print(\"b is greater\")"
   ]
  },
  {
   "cell_type": "code",
   "execution_count": 24,
   "id": "69fa57f5",
   "metadata": {},
   "outputs": [],
   "source": [
    "if a<b:\n",
    "    pass"
   ]
  },
  {
   "cell_type": "code",
   "execution_count": 25,
   "id": "c574c137",
   "metadata": {},
   "outputs": [
    {
     "name": "stdout",
     "output_type": "stream",
     "text": [
      "Enter the length of rectangle\n",
      "5\n",
      "Enter the breadth of rectangle\n",
      "6\n",
      "no,it is not square,it is only rectangle\n"
     ]
    }
   ],
   "source": [
    "#take values of length and breadth of a rectangle from user and check if it is square or not\n",
    "print(\"Enter the length of rectangle\")\n",
    "length=int(input())\n",
    "print(\"Enter the breadth of rectangle\")\n",
    "breadth=int(input())\n",
    "\n",
    "if length == breadth:\n",
    "    print(\"Yes,it is square\")\n",
    "else:\n",
    "    print(\"no,it is not square,it is only rectangle\")\n"
   ]
  },
  {
   "cell_type": "code",
   "execution_count": 26,
   "id": "88b91219",
   "metadata": {},
   "outputs": [
    {
     "name": "stdout",
     "output_type": "stream",
     "text": [
      "Enter the number\n",
      "-6\n",
      "6\n"
     ]
    }
   ],
   "source": [
    "print(\"Enter the number\")\n",
    "num=int(input())\n",
    "\n",
    "if(num<0):\n",
    "    print(num*-1)\n",
    "else:\n",
    "    print(num)"
   ]
  },
  {
   "cell_type": "code",
   "execution_count": 27,
   "id": "168ee95c",
   "metadata": {},
   "outputs": [
    {
     "name": "stdout",
     "output_type": "stream",
     "text": [
      "If you have medical cause say 'Y' or if not then say 'N'\n",
      "N\n",
      "Enter your age\n",
      "56\n",
      "not allowed\n"
     ]
    }
   ],
   "source": [
    "# allow student to sit if he/she has medical cause.ask user if he/she has medical cuase or not(\"Y\" or \"N\") and print accordingly\n",
    "medical_cause=(input(\"If you have medical cause say 'Y' or if not then say 'N'\\n\"))\n",
    "\n",
    "if medical_cause == \"Y\":\n",
    "    print(\"you are allowed\")\n",
    "else:\n",
    "    age=int(input(\"Enter your age\\n\"))\n",
    "    if age >= 75:\n",
    "        print(\"allowed\")\n",
    "    else:\n",
    "        print(\"not allowed\")"
   ]
  },
  {
   "cell_type": "code",
   "execution_count": 29,
   "id": "dbeb03d1",
   "metadata": {},
   "outputs": [
    {
     "name": "stdout",
     "output_type": "stream",
     "text": [
      "['c', 3]\n",
      "['a', 1]\n",
      "['b', 3]\n",
      "c in position 3\n",
      "a in position 1\n",
      "b in position 3\n",
      "3\n",
      "1\n",
      "3\n"
     ]
    }
   ],
   "source": [
    "list=[['c',3],['a',1],['b',3]]\n",
    "\n",
    "for i in list:\n",
    "    print(i)\n",
    "    \n",
    "for i,j in list:\n",
    "    print(i,\"in position\",j)\n",
    "    \n",
    "for i,j in list:\n",
    "    print(j)"
   ]
  },
  {
   "cell_type": "code",
   "execution_count": 30,
   "id": "b7efdea9",
   "metadata": {},
   "outputs": [
    {
     "name": "stdout",
     "output_type": "stream",
     "text": [
      "c\n",
      "a\n",
      "b\n"
     ]
    }
   ],
   "source": [
    "dict1=dict(list) # convert the list into dictionary\n",
    " \n",
    "for i in dict1:\n",
    "    print(i)   "
   ]
  },
  {
   "cell_type": "code",
   "execution_count": 32,
   "id": "674999cc",
   "metadata": {},
   "outputs": [
    {
     "name": "stdout",
     "output_type": "stream",
     "text": [
      "5\n",
      "6\n",
      "2\n",
      "56\n",
      "45\n"
     ]
    }
   ],
   "source": [
    "items=(int,float,'harry','kavery',5,6,2,56,45)\n",
    "\n",
    "for i in items:\n",
    "    if str(i).isnumeric() and i>=2:\n",
    "        print(i)"
   ]
  },
  {
   "cell_type": "code",
   "execution_count": 33,
   "id": "31c54f30",
   "metadata": {},
   "outputs": [
    {
     "name": "stdout",
     "output_type": "stream",
     "text": [
      "Enter the value of N:4\n",
      "sum :  4\n",
      "sum :  7\n",
      "sum :  9\n",
      "sum :  10\n",
      "Loop end\n",
      "Bye\n"
     ]
    }
   ],
   "source": [
    "sum=0\n",
    "n=int(input(\"Enter the value of N:\"))\n",
    "\n",
    "while(n>0):\n",
    "    sum+=n\n",
    "    n-=1\n",
    "    print(\"sum : \",sum)\n",
    "else:\n",
    "    print(\"Loop end\")\n",
    "print(\"Bye\")    "
   ]
  },
  {
   "cell_type": "code",
   "execution_count": 34,
   "id": "e25adde4",
   "metadata": {},
   "outputs": [
    {
     "name": "stdout",
     "output_type": "stream",
     "text": [
      "*\n",
      "**\n",
      "***\n",
      "****\n",
      "*****\n",
      "******\n",
      "*******\n",
      "********\n"
     ]
    }
   ],
   "source": [
    "# print *\n",
    "\n",
    "for i in range(1,9):\n",
    "    for j in range(i):\n",
    "        print(\"*\",end=\"\")\n",
    "    print()        "
   ]
  },
  {
   "cell_type": "code",
   "execution_count": 36,
   "id": "319c6463",
   "metadata": {},
   "outputs": [
    {
     "name": "stdout",
     "output_type": "stream",
     "text": [
      "*********\n",
      "********\n",
      "*******\n",
      "******\n",
      "*****\n",
      "****\n",
      "***\n",
      "**\n"
     ]
    }
   ],
   "source": [
    "for i in range(9,1,-1):\n",
    "    for j in range(i):\n",
    "        print(\"*\",end=\"\")\n",
    "    print() "
   ]
  },
  {
   "cell_type": "markdown",
   "id": "3325665b",
   "metadata": {},
   "source": [
    "# end =  \n",
    "is used to change the default beahaviour of print statement in python.since print() inserts a newline in python\n",
    "after each exacution. end = is change it "
   ]
  },
  {
   "cell_type": "code",
   "execution_count": 37,
   "id": "4807e319",
   "metadata": {},
   "outputs": [
    {
     "name": "stdout",
     "output_type": "stream",
     "text": [
      "5\n",
      "1/2/3/4/5/"
     ]
    }
   ],
   "source": [
    "n = int(input())\n",
    "\n",
    "for i in range(n):\n",
    "    print(i+1,end=\"/\") "
   ]
  },
  {
   "cell_type": "code",
   "execution_count": 41,
   "id": "99e1fba4",
   "metadata": {},
   "outputs": [
    {
     "name": "stdout",
     "output_type": "stream",
     "text": [
      "1805040.0\n"
     ]
    }
   ],
   "source": [
    "'''you are managing your finances using python:\n",
    "complete the tasks mentioned in the comments. and then print the amount left in your bank.\n",
    "Note that this code uses scientific notation to define large numbers. 1.2e6 is equal to 1.2 * 10 ** 6 which is equal to 1200000.\n",
    "amt=1.2e5'''\n",
    "# the amount of money in your bank account is 1.2e5\n",
    "amt = 1.2e6\n",
    "\n",
    "# money recieved every year in form of salary\n",
    "salary = 9.3e5\n",
    "\n",
    "# decrease the salary by 30% as tax paied to the government.\n",
    "salary -= (30/100)*salary\n",
    "\n",
    "# Add the salary to the bank account amt variable\n",
    "amt += salary\n",
    "\n",
    "# increase the amt by 4% that you recieved from the bank as intrest\n",
    "amt += (4/100)*amt\n",
    "\n",
    "# substract 1.2e5 from amt as the rent paied\n",
    "amt -=1.2e5\n",
    "\n",
    "# print the new value of the amt variable\n",
    "print(amt)\n"
   ]
  },
  {
   "cell_type": "code",
   "execution_count": 42,
   "id": "b5dd3504",
   "metadata": {},
   "outputs": [
    {
     "data": {
      "text/plain": [
       "14"
      ]
     },
     "execution_count": 42,
     "metadata": {},
     "output_type": "execute_result"
    }
   ],
   "source": [
    "def sum(a,b):\n",
    "    return a+b\n",
    "\n",
    "sum(6,8)"
   ]
  },
  {
   "cell_type": "code",
   "execution_count": 43,
   "id": "b335eb20",
   "metadata": {},
   "outputs": [
    {
     "name": "stdout",
     "output_type": "stream",
     "text": [
      "The multiplication is: 270\n"
     ]
    }
   ],
   "source": [
    "def mul(a,b,c):\n",
    "    res=a*b*c\n",
    "    print('The multiplication is:',res)\n",
    "    \n",
    "mul(5,6,9)"
   ]
  },
  {
   "cell_type": "code",
   "execution_count": 44,
   "id": "5072102b",
   "metadata": {},
   "outputs": [
    {
     "name": "stdout",
     "output_type": "stream",
     "text": [
      "Enter the number 1\n",
      "5\n",
      "Enter the number 2\n",
      "p\n",
      "invalid literal for int() with base 10: 'p'\n"
     ]
    }
   ],
   "source": [
    "# try exception handling\n",
    "print('Enter the number 1')\n",
    "num1=(input())\n",
    "print('Enter the number 2')\n",
    "num2=(input())\n",
    "\n",
    "try:\n",
    "    sum=int(num1)+int(num2)\n",
    "    print(sum)\n",
    "except Exception as e:\n",
    "    print(e)"
   ]
  },
  {
   "cell_type": "code",
   "execution_count": 45,
   "id": "7fdfccfc",
   "metadata": {},
   "outputs": [
    {
     "name": "stdout",
     "output_type": "stream",
     "text": [
      "value of a : 10\n"
     ]
    }
   ],
   "source": [
    "#function with one argument\n",
    "def argument(a):\n",
    "    print(\"value of a :\",a)\n",
    "    \n",
    "argument(10)  "
   ]
  },
  {
   "cell_type": "code",
   "execution_count": 46,
   "id": "19d127ad",
   "metadata": {},
   "outputs": [
    {
     "name": "stdout",
     "output_type": "stream",
     "text": [
      "A:B = python : 1\n"
     ]
    }
   ],
   "source": [
    "#function with multiple argument\n",
    "def myfunction(a,b):\n",
    "    print(\"A:B =\",a,\":\",b)\n",
    "myfunction('python',1)  "
   ]
  },
  {
   "cell_type": "code",
   "execution_count": 47,
   "id": "feea3d9d",
   "metadata": {},
   "outputs": [
    {
     "name": "stdout",
     "output_type": "stream",
     "text": [
      "Youngest child is :Geeta\n"
     ]
    }
   ],
   "source": [
    "# Keywords argument\n",
    "def myfunction(child3,child2,child1):\n",
    "    print(\"Youngest child is :\"+child1)\n",
    "    \n",
    "myfunction(child2='Ritesh',child3='Ram',child1='Geeta') "
   ]
  },
  {
   "cell_type": "code",
   "execution_count": 48,
   "id": "53e9e52e",
   "metadata": {},
   "outputs": [
    {
     "name": "stdout",
     "output_type": "stream",
     "text": [
      "I am from :Ranmala\n",
      "I am from :Gujrat\n"
     ]
    }
   ],
   "source": [
    "#default parameter value\n",
    "def myfun(state='Ranmala'):\n",
    "    print(\"I am from :\"+state)\n",
    "    \n",
    "myfun() # at empty space it used the default value of state\n",
    "myfun('Gujrat')"
   ]
  },
  {
   "cell_type": "code",
   "execution_count": 49,
   "id": "cb7345b7",
   "metadata": {},
   "outputs": [
    {
     "name": "stdout",
     "output_type": "stream",
     "text": [
      "Apple\n",
      "Banana\n",
      "Cherry\n"
     ]
    }
   ],
   "source": [
    "# passing list into the function\n",
    "def myfun(fruit):\n",
    "    for i in fruit:\n",
    "        print(i)\n",
    "f=['Apple','Banana','Cherry'] \n",
    "myfun(f)\n"
   ]
  },
  {
   "cell_type": "code",
   "execution_count": 50,
   "id": "99deb061",
   "metadata": {},
   "outputs": [
    {
     "data": {
      "text/plain": [
       "30"
      ]
     },
     "execution_count": 50,
     "metadata": {},
     "output_type": "execute_result"
    }
   ],
   "source": [
    "# return value from function\n",
    "def myfun(x):\n",
    "    return(5*6)\n",
    "\n",
    "myfun(6)"
   ]
  },
  {
   "cell_type": "markdown",
   "id": "829396ee",
   "metadata": {},
   "source": [
    "# Recursion function :-"
   ]
  },
  {
   "cell_type": "code",
   "execution_count": 51,
   "id": "94553a79",
   "metadata": {},
   "outputs": [
    {
     "name": "stdout",
     "output_type": "stream",
     "text": [
      "Num : 6\n",
      "The factorial of  6 is 720\n"
     ]
    }
   ],
   "source": [
    "def factorial(x):\n",
    "    if x==1:\n",
    "        return 1\n",
    "    else:\n",
    "        return(x*factorial(x-1))\n",
    "num = int(input(\"Num : \"))\n",
    "print(\"The factorial of \",num,\"is\",factorial(num))"
   ]
  },
  {
   "cell_type": "markdown",
   "id": "d3fd2dd7",
   "metadata": {},
   "source": [
    "# Lambda or anonymous function\n",
    "The function which has no name"
   ]
  },
  {
   "cell_type": "code",
   "execution_count": 52,
   "id": "6e5b8906",
   "metadata": {},
   "outputs": [
    {
     "name": "stdout",
     "output_type": "stream",
     "text": [
      "15\n",
      "25\n"
     ]
    }
   ],
   "source": [
    "x = lambda a:a+10\n",
    "print(x(5))\n",
    "\n",
    "y = lambda a,b,c:a*(b+c)\n",
    "print(y(5,2,3))"
   ]
  },
  {
   "cell_type": "markdown",
   "id": "c8b93ca0",
   "metadata": {},
   "source": [
    "# Global variable\n",
    "global variable means the variable can be use anywhere in the program"
   ]
  },
  {
   "cell_type": "code",
   "execution_count": 54,
   "id": "aec79489",
   "metadata": {},
   "outputs": [
    {
     "name": "stdout",
     "output_type": "stream",
     "text": [
      "25\n",
      "20\n"
     ]
    }
   ],
   "source": [
    "z = 25 # global variable\n",
    "def myfun():\n",
    "    global z\n",
    "    print(z)\n",
    "    z=20\n",
    "    \n",
    "myfun() \n",
    "print(z)"
   ]
  },
  {
   "cell_type": "markdown",
   "id": "4296954b",
   "metadata": {},
   "source": [
    "# Local variable\n",
    "The variable which can be used in it scope"
   ]
  },
  {
   "cell_type": "code",
   "execution_count": 56,
   "id": "b1955c18",
   "metadata": {},
   "outputs": [
    {
     "name": "stdout",
     "output_type": "stream",
     "text": [
      "15\n",
      "<function <lambda> at 0x0000021415CA5AF0>\n"
     ]
    }
   ],
   "source": [
    "def sum(x,y):\n",
    "    sum=x+y\n",
    "    return sum\n",
    "print(sum(5,10))\n",
    "\n",
    "print(x) \n",
    "# x is local variable here for sum function it use only for sum funcion"
   ]
  },
  {
   "cell_type": "markdown",
   "id": "fc670bda",
   "metadata": {},
   "source": [
    "# Random module in python"
   ]
  },
  {
   "cell_type": "code",
   "execution_count": 57,
   "id": "d1093618",
   "metadata": {},
   "outputs": [],
   "source": [
    "import random"
   ]
  },
  {
   "cell_type": "code",
   "execution_count": 58,
   "id": "7dfc07a6",
   "metadata": {},
   "outputs": [
    {
     "name": "stdout",
     "output_type": "stream",
     "text": [
      "1\n"
     ]
    }
   ],
   "source": [
    "from random import choice\n",
    "l1=[1,2,3,4,5]\n",
    "print(choice(l1)) # it choose anyone number from l1"
   ]
  },
  {
   "cell_type": "code",
   "execution_count": 59,
   "id": "bf63830e",
   "metadata": {},
   "outputs": [
    {
     "name": "stdout",
     "output_type": "stream",
     "text": [
      "Your OTP: 188179\n"
     ]
    }
   ],
   "source": [
    "from random import randint\n",
    "otp = randint(10000,999999)\n",
    "print(\"Your OTP:\",otp)"
   ]
  },
  {
   "cell_type": "code",
   "execution_count": 60,
   "id": "7e376575",
   "metadata": {},
   "outputs": [],
   "source": [
    "from random import shuffle\n",
    "from random import uniform"
   ]
  },
  {
   "cell_type": "code",
   "execution_count": 61,
   "id": "f1ec636c",
   "metadata": {},
   "outputs": [
    {
     "name": "stdout",
     "output_type": "stream",
     "text": [
      "['Apple', 'Banana', 'Mango']\n"
     ]
    },
    {
     "data": {
      "text/plain": [
       "3.361809256339012"
      ]
     },
     "execution_count": 61,
     "metadata": {},
     "output_type": "execute_result"
    }
   ],
   "source": [
    "l2=['Apple','Banana',\"Mango\"]\n",
    "shuffle(l2)\n",
    "print(l2)\n",
    "random.uniform(3,4)"
   ]
  },
  {
   "cell_type": "code",
   "execution_count": 62,
   "id": "61cff73a",
   "metadata": {},
   "outputs": [
    {
     "name": "stdout",
     "output_type": "stream",
     "text": [
      "[6, 1, 3, 2, 11, 16, 14, 12, 19, 9]\n",
      "[6, 1, 3, 2, 11]\n"
     ]
    }
   ],
   "source": [
    "from random import getstate\n",
    "# remember this state\n",
    "state = random.getstate()\n",
    " \n",
    "# print 10 random numbers\n",
    "print(random.sample(range(20), k = 10)) # it print 10 numbers between 1-20\n",
    " \n",
    "# restore state\n",
    "random.setstate(state)\n",
    " \n",
    "# print same first 5 random numbers\n",
    "# as above\n",
    "print(random.sample(range(20), k = 5))"
   ]
  },
  {
   "cell_type": "markdown",
   "id": "31c7482e",
   "metadata": {},
   "source": [
    "# Wesite for random module\n",
    "https://docs.python.org/3/library/random.html"
   ]
  },
  {
   "cell_type": "markdown",
   "id": "e6c8f33a",
   "metadata": {},
   "source": [
    "# Math module"
   ]
  },
  {
   "cell_type": "code",
   "execution_count": 64,
   "id": "7ca16fd3",
   "metadata": {},
   "outputs": [],
   "source": [
    "import math\n",
    "from math import factorial"
   ]
  },
  {
   "cell_type": "code",
   "execution_count": 65,
   "id": "9117cfa1",
   "metadata": {},
   "outputs": [
    {
     "name": "stdout",
     "output_type": "stream",
     "text": [
      "120\n"
     ]
    }
   ],
   "source": [
    "print(math.factorial(5))"
   ]
  },
  {
   "cell_type": "code",
   "execution_count": 67,
   "id": "8a5cd78c",
   "metadata": {},
   "outputs": [
    {
     "name": "stdout",
     "output_type": "stream",
     "text": [
      "2\n"
     ]
    }
   ],
   "source": [
    "# ceil() it gives round off of number\n",
    "print(math.ceil(1.4))"
   ]
  },
  {
   "cell_type": "code",
   "execution_count": 68,
   "id": "85dd4991",
   "metadata": {},
   "outputs": [
    {
     "name": "stdout",
     "output_type": "stream",
     "text": [
      "0\n",
      "5\n"
     ]
    }
   ],
   "source": [
    "# floor()\n",
    "print(math.floor(0.2))\n",
    "print(math.floor(5.2))"
   ]
  },
  {
   "cell_type": "code",
   "execution_count": 69,
   "id": "460cde8e",
   "metadata": {},
   "outputs": [
    {
     "name": "stdout",
     "output_type": "stream",
     "text": [
      "2.0\n"
     ]
    }
   ],
   "source": [
    "# sqrt\n",
    "print(math.sqrt(4))"
   ]
  },
  {
   "cell_type": "code",
   "execution_count": 70,
   "id": "0ed92095",
   "metadata": {},
   "outputs": [],
   "source": [
    "from math import fabs "
   ]
  },
  {
   "cell_type": "code",
   "execution_count": 71,
   "id": "950c2cf3",
   "metadata": {},
   "outputs": [
    {
     "data": {
      "text/plain": [
       "5.0"
      ]
     },
     "execution_count": 71,
     "metadata": {},
     "output_type": "execute_result"
    }
   ],
   "source": [
    "math.fabs(5)\n",
    "# Return the absolute value of the float x."
   ]
  },
  {
   "cell_type": "markdown",
   "id": "d16e12e1",
   "metadata": {},
   "source": [
    "# Website for math module functon\n",
    "https://docs.python.org/3/library/math.html"
   ]
  },
  {
   "cell_type": "markdown",
   "id": "1a584cde",
   "metadata": {},
   "source": [
    "# object oriented concept in python"
   ]
  },
  {
   "cell_type": "code",
   "execution_count": 73,
   "id": "3f25468f",
   "metadata": {},
   "outputs": [
    {
     "name": "stdout",
     "output_type": "stream",
     "text": [
      "<class '__main__.myclass'>\n"
     ]
    }
   ],
   "source": [
    "# how to create the class\n",
    "class myclass:\n",
    "    x=5\n",
    "    \n",
    "print(myclass)    "
   ]
  },
  {
   "cell_type": "markdown",
   "id": "250a7f89",
   "metadata": {},
   "source": [
    "for accessing the value of x i.e. the property of class we need to create an object"
   ]
  },
  {
   "cell_type": "code",
   "execution_count": 74,
   "id": "59b185c8",
   "metadata": {},
   "outputs": [
    {
     "name": "stdout",
     "output_type": "stream",
     "text": [
      "5\n",
      "6\n"
     ]
    }
   ],
   "source": [
    "# How to create an object ?\n",
    "\n",
    "class myclass:\n",
    "    x=5 # property of class\n",
    "    y=6\n",
    "    \n",
    "m1=myclass() # m1 is an object of class myclass\n",
    "print(m1.x)\n",
    "print(m1.y)"
   ]
  },
  {
   "cell_type": "code",
   "execution_count": 76,
   "id": "f00444d6",
   "metadata": {},
   "outputs": [
    {
     "data": {
      "text/plain": [
       "45"
      ]
     },
     "execution_count": 76,
     "metadata": {},
     "output_type": "execute_result"
    }
   ],
   "source": [
    "\n",
    "class myclass:\n",
    "    def myfun(self): \n",
    "        # self is required in parameter unless compiler give an error\n",
    "        return 5*9\n",
    "m1=myclass()\n",
    "m1.myfun()"
   ]
  },
  {
   "cell_type": "code",
   "execution_count": 77,
   "id": "95555564",
   "metadata": {},
   "outputs": [
    {
     "name": "stdout",
     "output_type": "stream",
     "text": [
      "45\n"
     ]
    }
   ],
   "source": [
    "# How to create constuctor\n",
    "\n",
    "class myclass:\n",
    "    def __init__(self):\n",
    "        print(5*9)\n",
    "m1=myclass() "
   ]
  },
  {
   "cell_type": "code",
   "execution_count": 78,
   "id": "f9646f0b",
   "metadata": {},
   "outputs": [
    {
     "name": "stdout",
     "output_type": "stream",
     "text": [
      "21\n",
      "pooja\n"
     ]
    }
   ],
   "source": [
    "# change the value by objects\n",
    "class myclass:\n",
    "    def __init__(self,name,age):\n",
    "        self.name=name\n",
    "        self.age=age\n",
    "        \n",
    "m1=myclass(\"pooja\",21)\n",
    "print(m1.age)\n",
    "print(m1.name)\n"
   ]
  },
  {
   "cell_type": "code",
   "execution_count": 79,
   "id": "96245f56",
   "metadata": {},
   "outputs": [
    {
     "name": "stdout",
     "output_type": "stream",
     "text": [
      "23\n"
     ]
    }
   ],
   "source": [
    "# changing the age using object\n",
    "m1.age=23\n",
    "print(m1.age)"
   ]
  },
  {
   "cell_type": "code",
   "execution_count": 80,
   "id": "223d82c8",
   "metadata": {},
   "outputs": [],
   "source": [
    "# delete the object\n",
    "del m1.age\n"
   ]
  },
  {
   "cell_type": "code",
   "execution_count": 81,
   "id": "7e8c777c",
   "metadata": {},
   "outputs": [
    {
     "ename": "AttributeError",
     "evalue": "'myclass' object has no attribute 'age'",
     "output_type": "error",
     "traceback": [
      "\u001b[1;31m---------------------------------------------------------------------------\u001b[0m",
      "\u001b[1;31mAttributeError\u001b[0m                            Traceback (most recent call last)",
      "Input \u001b[1;32mIn [81]\u001b[0m, in \u001b[0;36m<cell line: 1>\u001b[1;34m()\u001b[0m\n\u001b[1;32m----> 1\u001b[0m \u001b[38;5;28mprint\u001b[39m(\u001b[43mm1\u001b[49m\u001b[38;5;241;43m.\u001b[39;49m\u001b[43mage\u001b[49m)\n",
      "\u001b[1;31mAttributeError\u001b[0m: 'myclass' object has no attribute 'age'"
     ]
    }
   ],
   "source": [
    "print(m1.age)"
   ]
  },
  {
   "cell_type": "code",
   "execution_count": null,
   "id": "608062f5",
   "metadata": {},
   "outputs": [],
   "source": []
  }
 ],
 "metadata": {
  "kernelspec": {
   "display_name": "Python 3 (ipykernel)",
   "language": "python",
   "name": "python3"
  },
  "language_info": {
   "codemirror_mode": {
    "name": "ipython",
    "version": 3
   },
   "file_extension": ".py",
   "mimetype": "text/x-python",
   "name": "python",
   "nbconvert_exporter": "python",
   "pygments_lexer": "ipython3",
   "version": "3.9.12"
  }
 },
 "nbformat": 4,
 "nbformat_minor": 5
}
