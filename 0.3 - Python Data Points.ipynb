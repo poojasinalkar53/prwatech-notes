{
 "cells": [
  {
   "cell_type": "markdown",
   "metadata": {
    "colab_type": "text",
    "id": "hKd6pbVWjAhO"
   },
   "source": [
    "# Variables"
   ]
  },
  {
   "cell_type": "markdown",
   "metadata": {
    "colab_type": "text",
    "id": "Xci3KHBejAhQ"
   },
   "source": [
    "A variable is a location in memory used to store some data (value).\n",
    "\n",
    "They are given unique names to differentiate between different memory locations. The rules for writing a variable name is same as the rules for writing identifiers in Python.\n",
    "\n",
    "We don't need to declare a variable before using it. In Python, we simply assign a value to a variable and it will exist. We don't even have to declare the type of the variable. This is handled internally according to the type of value we assign to the variable."
   ]
  },
  {
   "cell_type": "markdown",
   "metadata": {
    "colab_type": "text",
    "id": "X0eXBbyQjAhS"
   },
   "source": [
    "# Variable Assignments"
   ]
  },
  {
   "cell_type": "code",
   "execution_count": 4,
   "metadata": {},
   "outputs": [
    {
     "name": "stdout",
     "output_type": "stream",
     "text": [
      "<class 'str'>\n",
      "<class 'str'>\n",
      "140415433492464\n",
      "140415439841136\n"
     ]
    }
   ],
   "source": [
    "x = \"Python\"\n",
    "y = \"python\"\n",
    "\n",
    "print(type(x)) \n",
    "print(type(y))\n",
    "\n",
    "\n",
    "print(id(x))\n",
    "print(id(y))"
   ]
  },
  {
   "cell_type": "code",
   "execution_count": 9,
   "metadata": {},
   "outputs": [
    {
     "name": "stdout",
     "output_type": "stream",
     "text": [
      "4395375232\n",
      "4395375232\n",
      "True\n",
      "140415469974864\n",
      "140415469973584\n"
     ]
    }
   ],
   "source": [
    "i1 = 10\n",
    "i2 = 10\n",
    "\n",
    "print(id(i1))\n",
    "print(id(i2))\n",
    "\n",
    "a1 = 20.0\n",
    "a2 = 20.0\n",
    "\n",
    "print(a1 is not a2)\n",
    "print(id(a1))\n",
    "print(id(a2))"
   ]
  },
  {
   "cell_type": "code",
   "execution_count": 27,
   "metadata": {},
   "outputs": [
    {
     "name": "stdout",
     "output_type": "stream",
     "text": [
      "False\n",
      "140496373285424\n",
      "140496373284912\n"
     ]
    }
   ],
   "source": [
    "#If two diff variable has the same value as float dt, address will be diff. \n",
    "i1 = 2+7j\n",
    "i2 = 2+7j\n",
    "\n",
    "print(i1 is i2)\n",
    "\n",
    "print(id(i1))\n",
    "print(id(i2))"
   ]
  },
  {
   "cell_type": "code",
   "execution_count": 54,
   "metadata": {},
   "outputs": [],
   "source": [
    "kharadi_population_age1 = [\"ten\",19,3.0, 45, 78, 45]"
   ]
  },
  {
   "cell_type": "code",
   "execution_count": 56,
   "metadata": {},
   "outputs": [
    {
     "name": "stdout",
     "output_type": "stream",
     "text": [
      "['ten', 19, 3.0, 78]\n",
      "140496368708096\n",
      "<class 'list'>\n"
     ]
    }
   ],
   "source": [
    "kharadi_population_age1.remove(45)\n",
    "print(kharadi_population_age1)\n",
    "print(id(kharadi_population_age1))\n",
    "print(type(kharadi_population_age1))"
   ]
  },
  {
   "cell_type": "code",
   "execution_count": 57,
   "metadata": {},
   "outputs": [
    {
     "name": "stdout",
     "output_type": "stream",
     "text": [
      "140496362946448\n",
      "<class 'tuple'>\n"
     ]
    }
   ],
   "source": [
    "list_to_tup = tuple(kharadi_population_age1)\n",
    "print(id(list_to_tup))\n",
    "print(type(list_to_tup))"
   ]
  },
  {
   "cell_type": "code",
   "execution_count": 61,
   "metadata": {},
   "outputs": [
    {
     "name": "stdout",
     "output_type": "stream",
     "text": [
      "140496369343840\n",
      "<class 'set'>\n"
     ]
    }
   ],
   "source": [
    "#converting list to set\n",
    "list_to_set = set(kharadi_population_age1)\n",
    "print(id(list_to_set))\n",
    "print(type(list_to_set))"
   ]
  },
  {
   "cell_type": "code",
   "execution_count": 62,
   "metadata": {},
   "outputs": [
    {
     "name": "stdout",
     "output_type": "stream",
     "text": [
      "<class 'tuple'>\n"
     ]
    }
   ],
   "source": [
    "Indian_banks = ('SBI', 'BOI', 'HDFC', 'AXIS', 'ICICI')\n",
    "print(type(Indian_banks))\n",
    "\n",
    "#convert tuple to list\n",
    "#convert tuple to set "
   ]
  },
  {
   "cell_type": "code",
   "execution_count": 63,
   "metadata": {},
   "outputs": [
    {
     "name": "stdout",
     "output_type": "stream",
     "text": [
      "<class 'set'>\n"
     ]
    }
   ],
   "source": [
    "metros = {\"Delhi\", \"Chennai\", \"Mumbai\", \"kolkata\"}\n",
    "print(type(metros))\n",
    "\n",
    "#convert set to tuple\n",
    "#convert set to list "
   ]
  },
  {
   "cell_type": "code",
   "execution_count": 94,
   "metadata": {},
   "outputs": [
    {
     "name": "stdout",
     "output_type": "stream",
     "text": [
      "<class 'dict'>\n"
     ]
    }
   ],
   "source": [
    "india_city_code = {11 : \"Delhi\", 22 : \"Mum\", 33 : \"KlK\", 44 : \"CHN\"}\n",
    "india_city_code[33] = 'Kalicut'\n",
    "india_city_code[20] = \"Pune\"\n",
    "print(type(india_city_code))"
   ]
  },
  {
   "cell_type": "code",
   "execution_count": 90,
   "metadata": {},
   "outputs": [
    {
     "name": "stdout",
     "output_type": "stream",
     "text": [
      "140496375046880\n",
      "140496379213856\n",
      "<class 'set'>\n",
      "<class 'set'>\n"
     ]
    }
   ],
   "source": [
    "li1 = {1,2}\n",
    "li2 = {1,2}\n",
    "\n",
    "\n",
    "print(id(li1))\n",
    "print(id(li2))\n",
    "print(type(li1))\n",
    "print(type(li2))"
   ]
  },
  {
   "cell_type": "code",
   "execution_count": null,
   "metadata": {},
   "outputs": [],
   "source": [
    "a = 12\n",
    "b = 10\n",
    "print(\"A answer is : \" , type(a))\n",
    "print(\"B answer is : \" , b)\n",
    "print(id(a))\n",
    "print(id(b))\n",
    "b = 20\n",
    "print(id(b))\n",
    "print(\"B answer is chaning to : \" , b)\n",
    "\n",
    "print(\"My a value is : \", a)"
   ]
  },
  {
   "cell_type": "code",
   "execution_count": 93,
   "metadata": {},
   "outputs": [
    {
     "name": "stdout",
     "output_type": "stream",
     "text": [
      "<class 'bool'>\n",
      "1.0\n"
     ]
    }
   ],
   "source": [
    "bool_value1 = True\n",
    "bool_value2 = False\n",
    "\n",
    "print(type(bool_value1))\n",
    "\n",
    "bool_int = float(bool_value1)\n",
    "print(bool_int)"
   ]
  },
  {
   "cell_type": "code",
   "execution_count": null,
   "metadata": {},
   "outputs": [],
   "source": [
    "num = '100'\n",
    "print(\"This is original variable :\" ,type(num))\n",
    "\n",
    "num_f = int(num)\n",
    "print(\"This is int value :\", num_f)\n",
    "print(\"This is value after casting with int: \", type(num_f))\n",
    "\n",
    "num_s = float(num)\n",
    "print(\"This is float value :\", num_s)\n",
    "print(\"This is value after casting with float: \", type(num_s))"
   ]
  },
  {
   "cell_type": "code",
   "execution_count": null,
   "metadata": {
    "colab": {},
    "colab_type": "code",
    "id": "EmLqQ8LdjAhT"
   },
   "outputs": [],
   "source": [
    "#We use the assignment operator (=) to assign values to a variable\n",
    "\n",
    "a = 10\n",
    "d = 10\n",
    "b = 5.5\n",
    "c = 'ML'\n",
    "print(id(a))\n",
    "print(id(d))\n",
    "\n",
    "print(float(d))\n",
    "\n",
    "x = float(a)\n",
    "print(x)\n",
    "print(id(x))\n",
    "print(type(x))\n",
    "b = \"5\"\n",
    "print(b)\n",
    "print(type(b))"
   ]
  },
  {
   "cell_type": "code",
   "execution_count": null,
   "metadata": {},
   "outputs": [],
   "source": [
    "x = \"6.7\"\n",
    "y = float(x)\n",
    "print(type(y))\n",
    "print(y)"
   ]
  },
  {
   "cell_type": "markdown",
   "metadata": {
    "colab_type": "text",
    "id": "OmSXAyFWjAhZ"
   },
   "source": [
    "# Multiple Assignments"
   ]
  },
  {
   "cell_type": "code",
   "execution_count": null,
   "metadata": {
    "colab": {},
    "colab_type": "code",
    "id": "TSdYQvngjAha"
   },
   "outputs": [],
   "source": [
    "a, b, c = 10, 5.5, \"ML\"\n",
    "a = 10; b = 5.5; c = \"ML\""
   ]
  },
  {
   "cell_type": "code",
   "execution_count": 30,
   "metadata": {
    "colab": {},
    "colab_type": "code",
    "id": "k4uwhrsojAhe"
   },
   "outputs": [],
   "source": [
    "a = b = c = \"AI\" #assign the same value to multiple variables at once"
   ]
  },
  {
   "cell_type": "markdown",
   "metadata": {
    "colab_type": "text",
    "id": "LoRDnRcAjAhh"
   },
   "source": [
    "# Storage Locations"
   ]
  },
  {
   "cell_type": "code",
   "execution_count": 31,
   "metadata": {
    "colab": {},
    "colab_type": "code",
    "id": "N18ORoyqjAhi",
    "outputId": "17987dd0-afd0-45a8-ff83-87abe9804212"
   },
   "outputs": [
    {
     "name": "stdout",
     "output_type": "stream",
     "text": [
      "4455090592\n",
      "<class 'int'>\n"
     ]
    }
   ],
   "source": [
    "x = 3\n",
    "\n",
    "print(id(x))               #print address of variable x\n",
    "print(type(x))"
   ]
  },
  {
   "cell_type": "code",
   "execution_count": 32,
   "metadata": {
    "colab": {},
    "colab_type": "code",
    "id": "DzXApOnYjAhq",
    "outputId": "77837d2f-6974-4f83-a731-78cc0dfe2ad0"
   },
   "outputs": [
    {
     "name": "stdout",
     "output_type": "stream",
     "text": [
      "4455090592\n"
     ]
    }
   ],
   "source": [
    "y = 3\n",
    "\n",
    "print(id(y))               #print address of variable y"
   ]
  },
  {
   "cell_type": "markdown",
   "metadata": {
    "colab_type": "text",
    "id": "OJ2zfFRCjAhu"
   },
   "source": [
    "Observation:\n",
    "\n",
    "x and y points to same memory location\n",
    "    "
   ]
  },
  {
   "cell_type": "code",
   "execution_count": 33,
   "metadata": {
    "colab": {},
    "colab_type": "code",
    "id": "TmRjWWdkjAhv",
    "outputId": "aab2f5fa-a86c-4b57-b919-9d75772cab69"
   },
   "outputs": [
    {
     "name": "stdout",
     "output_type": "stream",
     "text": [
      "4455090560\n"
     ]
    }
   ],
   "source": [
    "y = 2\n",
    "print(id(y))               #print address of variable y"
   ]
  },
  {
   "cell_type": "markdown",
   "metadata": {
    "colab_type": "text",
    "id": "8HgZqTvSjAh0"
   },
   "source": [
    "# Data Types "
   ]
  },
  {
   "cell_type": "markdown",
   "metadata": {
    "colab_type": "text",
    "id": "ts-W3G1DjAh3"
   },
   "source": [
    "Every value in Python has a datatype. Since everything is an object in Python programming, data types are actually classes and variables are instance (object) of these classes."
   ]
  },
  {
   "cell_type": "markdown",
   "metadata": {
    "colab_type": "text",
    "id": "lUrSkm7UjAh4"
   },
   "source": [
    "# Numbers"
   ]
  },
  {
   "cell_type": "markdown",
   "metadata": {
    "colab_type": "text",
    "id": "H4_fLR0BjAiP"
   },
   "source": [
    "Integers, floating point numbers and complex numbers falls under Python numbers category. They are defined as int, float and complex class in Python.\n",
    "\n",
    "We can use the type() function to know which class a variable or a value belongs to and the isinstance() function to check if an object belongs to a particular class."
   ]
  },
  {
   "cell_type": "code",
   "execution_count": 34,
   "metadata": {
    "colab": {},
    "colab_type": "code",
    "id": "WwLgel3TjAiR",
    "outputId": "000fb2cf-0aab-4a01-ad9e-ace2c289ccf1"
   },
   "outputs": [
    {
     "name": "stdout",
     "output_type": "stream",
     "text": [
      "5  is of type <class 'str'>\n",
      "True\n"
     ]
    }
   ],
   "source": [
    "a = '5'                               #data type is implicitly set to integer\n",
    "print(a, \" is of type\", type(a))\n",
    "print(isinstance(a, str))"
   ]
  },
  {
   "cell_type": "code",
   "execution_count": 35,
   "metadata": {
    "colab": {},
    "colab_type": "code",
    "id": "VFmFyuKljAiY",
    "outputId": "caa72b7d-3648-4b98-a66d-c80354e6d823"
   },
   "outputs": [
    {
     "name": "stdout",
     "output_type": "stream",
     "text": [
      "2.5  is of type <class 'float'>\n"
     ]
    }
   ],
   "source": [
    "a = 2.5                            #data type is changed to float\n",
    "print(a, \" is of type\", type(a))"
   ]
  },
  {
   "cell_type": "code",
   "execution_count": 36,
   "metadata": {
    "colab": {},
    "colab_type": "code",
    "id": "ylZA0ZPzjAig",
    "outputId": "437304cd-32db-4132-cb0d-c709ec22c1ea"
   },
   "outputs": [
    {
     "name": "stdout",
     "output_type": "stream",
     "text": [
      "(1+2j)  is complex number? <class 'complex'>\n",
      "True\n"
     ]
    }
   ],
   "source": [
    "a = 1+2j                          #data type is changed to complex number\n",
    "print(a, \" is complex number?\", type(a)) \n",
    "print(isinstance(a, complex))"
   ]
  },
  {
   "cell_type": "markdown",
   "metadata": {
    "colab_type": "text",
    "id": "OzdVm2D-jAim"
   },
   "source": [
    "# Boolean"
   ]
  },
  {
   "cell_type": "markdown",
   "metadata": {
    "colab_type": "text",
    "id": "JDaSahNgjAio"
   },
   "source": [
    " Boolean represents the truth values False and True"
   ]
  },
  {
   "cell_type": "code",
   "execution_count": 37,
   "metadata": {
    "colab": {},
    "colab_type": "code",
    "id": "QcWk4rwnjAip",
    "outputId": "4cf05833-5569-437d-a38b-07402bba8bac"
   },
   "outputs": [
    {
     "name": "stdout",
     "output_type": "stream",
     "text": [
      "<class 'bool'>\n",
      "0.0\n",
      "<class 'float'>\n",
      "False\n",
      "<class 'str'>\n"
     ]
    }
   ],
   "source": [
    "a = False                          #a is a boolean type\n",
    "print(type(a))\n",
    "\n",
    "b1 = float(a)\n",
    "print(b1)\n",
    "print(type(b1))\n",
    "\n",
    "x2 = str(a)\n",
    "print(x2)\n",
    "print(type(x2))"
   ]
  },
  {
   "cell_type": "code",
   "execution_count": 38,
   "metadata": {},
   "outputs": [
    {
     "name": "stdout",
     "output_type": "stream",
     "text": [
      "<class 'bool'>\n",
      "0.0\n",
      "<class 'float'>\n"
     ]
    }
   ],
   "source": [
    "a1 = False\n",
    "print(type(a1))\n",
    "\n",
    "b2 = float(a1)\n",
    "print(b2)\n",
    "print(type(b2))"
   ]
  },
  {
   "cell_type": "code",
   "execution_count": null,
   "metadata": {},
   "outputs": [],
   "source": []
  },
  {
   "cell_type": "markdown",
   "metadata": {
    "colab_type": "text",
    "id": "FlyZKNjVjAiz"
   },
   "source": [
    "# Python Strings"
   ]
  },
  {
   "cell_type": "markdown",
   "metadata": {
    "colab_type": "text",
    "id": "by_In521jAjD"
   },
   "source": [
    "String is sequence of Unicode characters. \n",
    "\n",
    "We can use single quotes or double quotes to represent strings. \n",
    "\n",
    "Multi-line strings can be denoted using triple quotes, ''' or \"\"\"."
   ]
  },
  {
   "cell_type": "markdown",
   "metadata": {
    "colab_type": "text",
    "id": "A8ER_dyljAjE"
   },
   "source": [
    "A string in Python consists of a series or sequence of characters - letters, numbers, and special characters. \n",
    "\n",
    "Strings can be indexed - often synonymously called subscripted as well. \n",
    "\n",
    "Similar to C, the first character of a string has the index 0."
   ]
  },
  {
   "cell_type": "code",
   "execution_count": 39,
   "metadata": {},
   "outputs": [
    {
     "name": "stdout",
     "output_type": "stream",
     "text": [
      "vaccination\n",
      "cination\n",
      "11\n"
     ]
    }
   ],
   "source": [
    "name = \"Vaccination\"\n",
    "name = \"vaccination\"\n",
    "print(name)\n",
    "#print(name[7])\n",
    "\n",
    "print(name[3:])\n",
    "\n",
    "print(len(name))"
   ]
  },
  {
   "cell_type": "code",
   "execution_count": 40,
   "metadata": {
    "colab": {},
    "colab_type": "code",
    "id": "1gMkenFmjAjF",
    "outputId": "cfd3aa0e-c09c-415f-d3ec-cdca87c1fc31"
   },
   "outputs": [
    {
     "name": "stdout",
     "output_type": "stream",
     "text": [
      "This*is*Online ML course\n"
     ]
    }
   ],
   "source": [
    "s = 'This*is*Online ML course'\n",
    "print(s)"
   ]
  },
  {
   "cell_type": "code",
   "execution_count": 41,
   "metadata": {
    "colab": {},
    "colab_type": "code",
    "id": "Pcf-sZ_UjAjM",
    "outputId": "5c444031-790f-4888-851d-fddd01655983"
   },
   "outputs": [
    {
     "name": "stdout",
     "output_type": "stream",
     "text": [
      "T\n",
      "24\n",
      "Thi\n"
     ]
    }
   ],
   "source": [
    "print(s[0])\n",
    "print(len(s))\n",
    "print(s[:3])\n",
    "#last char s[len(s)-1] or s[-1]"
   ]
  },
  {
   "cell_type": "code",
   "execution_count": 42,
   "metadata": {
    "colab": {},
    "colab_type": "code",
    "id": "ajug377XjAjR",
    "outputId": "c2998090-bc7f-4ffc-ad99-782dbadd0932"
   },
   "outputs": [
    {
     "name": "stdout",
     "output_type": "stream",
     "text": [
      "This*\n",
      "is*is*Online ML course\n",
      "This*is*Online ML course\n"
     ]
    }
   ],
   "source": [
    "#slicing\n",
    "x = s[:5]\n",
    "print(x)\n",
    "y = s[2:]\n",
    "print(y)\n",
    "s1 = s[:]\n",
    "print(s1)"
   ]
  },
  {
   "cell_type": "code",
   "execution_count": 43,
   "metadata": {},
   "outputs": [
    {
     "ename": "TypeError",
     "evalue": "'str' object does not support item assignment",
     "output_type": "error",
     "traceback": [
      "\u001b[0;31m---------------------------------------------------------------------------\u001b[0m",
      "\u001b[0;31mTypeError\u001b[0m                                 Traceback (most recent call last)",
      "\u001b[0;32m<ipython-input-43-a7c9d8784af9>\u001b[0m in \u001b[0;36m<module>\u001b[0;34m\u001b[0m\n\u001b[0;32m----> 1\u001b[0;31m \u001b[0ms\u001b[0m\u001b[0;34m[\u001b[0m\u001b[0;36m0\u001b[0m\u001b[0;34m]\u001b[0m \u001b[0;34m=\u001b[0m \u001b[0;34m't'\u001b[0m\u001b[0;34m\u001b[0m\u001b[0;34m\u001b[0m\u001b[0m\n\u001b[0m",
      "\u001b[0;31mTypeError\u001b[0m: 'str' object does not support item assignment"
     ]
    }
   ],
   "source": [
    "s[0] = 't'"
   ]
  },
  {
   "cell_type": "markdown",
   "metadata": {
    "colab_type": "text",
    "id": "q8EfPYofjAjX"
   },
   "source": [
    "# Python List"
   ]
  },
  {
   "cell_type": "markdown",
   "metadata": {
    "colab_type": "text",
    "id": "HmvLG9uqjAjY"
   },
   "source": [
    "List is an ordered sequence of items. It is one of the most used datatype in Python and is very flexible. All the items in a list do not need to be of the same type.\n",
    "\n",
    "Declaring a list is , Items separated by commas are enclosed within brackets [ ]."
   ]
  },
  {
   "cell_type": "code",
   "execution_count": 21,
   "metadata": {},
   "outputs": [
    {
     "name": "stdout",
     "output_type": "stream",
     "text": [
      "<class 'list'>\n",
      "[10, 12, 14, 'India', 11.8, 9, 'hello', 9]\n",
      "8\n",
      "[10, 12, 14, 'India', 11.8, 'hello', 9]\n",
      "7\n",
      "[10, 12, 14, 'Ind', 11.8, 'hello', 9]\n"
     ]
    }
   ],
   "source": [
    "li = [10,12,14,\"India\", 11.8]\n",
    "print(type(li))\n",
    "li += [9,\"hello\",9]\n",
    "print(li)\n",
    "print(len(li))\n",
    "li.remove(9)\n",
    "\n",
    "print(li)\n",
    "print(len(li))\n",
    "li[3] = \"Ind\"\n",
    "print(li)\n"
   ]
  },
  {
   "cell_type": "code",
   "execution_count": null,
   "metadata": {
    "colab": {},
    "colab_type": "code",
    "id": "-5ZyYAWPjAjZ",
    "outputId": "b4f8f8a1-1899-4739-e6f6-2bf52bd07080"
   },
   "outputs": [],
   "source": [
    "a = list()    #empty list\n",
    "a += (10, 20.5, \"Hello\")\n",
    "\n",
    "a += ['DS', 10]\n",
    "\n",
    "print(\"Original value of a: \", a)\n",
    "\n",
    "\n",
    "#a = [10, 20.5, \"Hello\"] \n",
    "\n",
    "print('Original value of a : ', a)\n",
    "print(len(a))\n",
    "print(type(a))\n",
    "print('This is index one value : ', a[1])               #print 1st index element\n",
    "a[1] = 23\n",
    "print('After changing : ', a)\n",
    "print(len(a))\n",
    "\n",
    "a[0] = a[0] - 5         \n",
    "print(a)\n",
    "#print(a[2][2:4])\n"
   ]
  },
  {
   "cell_type": "markdown",
   "metadata": {
    "colab_type": "text",
    "id": "RxDNwaW9jAjd"
   },
   "source": [
    "Lists are mutable, meaning, value of elements of a list can be altered."
   ]
  },
  {
   "cell_type": "markdown",
   "metadata": {
    "colab_type": "text",
    "id": "1z43evhgjAjm"
   },
   "source": [
    "# Python Tuple"
   ]
  },
  {
   "cell_type": "markdown",
   "metadata": {
    "colab_type": "text",
    "id": "hl-DNjIKjAjn"
   },
   "source": [
    "Tuple is an ordered sequence of items same as list.The only difference is that tuples are immutable. Tuples once created cannot be modified."
   ]
  },
  {
   "cell_type": "code",
   "execution_count": null,
   "metadata": {},
   "outputs": [],
   "source": [
    "#tup1 = tuple()   #empty tuple\n",
    "#tup1 += (19,10,'one','python','DS')\n",
    "#print(tup1)\n",
    "tup = (1,20.1,\"twenty\",True)\n",
    "print(\"Length of tup : \", len(tup))\n",
    "\n",
    "print(type(tup))\n"
   ]
  },
  {
   "cell_type": "code",
   "execution_count": null,
   "metadata": {
    "colab": {},
    "colab_type": "code",
    "id": "FtTKigm4jAjn"
   },
   "outputs": [],
   "source": [
    "t = (1, 1.5, \"ML\")\n",
    "t2 = (2,4,9)\n",
    "print(type(t))\n",
    "t1 = [t,t2]\n",
    "\n",
    "print(t1)\n",
    "print(type(t1))\n",
    "print(t1[1][0])\n",
    "\n",
    "t1[0] = (2,10,19)\n",
    "print(t1)"
   ]
  },
  {
   "cell_type": "code",
   "execution_count": null,
   "metadata": {
    "colab": {},
    "colab_type": "code",
    "id": "FXwePsUjjAjs",
    "outputId": "756a5155-079f-41de-a91e-e7f7813e997f"
   },
   "outputs": [],
   "source": [
    "print(t[1]) #extract particular element"
   ]
  },
  {
   "cell_type": "code",
   "execution_count": null,
   "metadata": {
    "colab": {},
    "colab_type": "code",
    "id": "HcmgwUWvjAjv",
    "outputId": "d618dde0-d605-4229-a828-8904a24ae7e7"
   },
   "outputs": [],
   "source": [
    " "
   ]
  },
  {
   "cell_type": "markdown",
   "metadata": {
    "colab_type": "text",
    "id": "RUTK-g6rjAjz"
   },
   "source": [
    "# Python Set"
   ]
  },
  {
   "cell_type": "markdown",
   "metadata": {
    "colab_type": "text",
    "id": "J8pDiqs1jAjz"
   },
   "source": [
    "Set is an unordered collection of unique items. Set is defined by values separated by comma inside braces { }. Items in a set are not ordered."
   ]
  },
  {
   "cell_type": "code",
   "execution_count": null,
   "metadata": {
    "colab": {},
    "colab_type": "code",
    "id": "Pa8_taUijAj0",
    "outputId": "a3463a54-5124-4b5a-ade3-744b71dd93b3"
   },
   "outputs": [],
   "source": [
    "a = {10, 30, 10, 40, 20, 40, 5}\n",
    "print(a)\n",
    "print(isinstance(a,set))"
   ]
  },
  {
   "cell_type": "code",
   "execution_count": null,
   "metadata": {
    "colab": {},
    "colab_type": "code",
    "id": "IvCOBoJsjAj4",
    "outputId": "9a137f29-9146-4f87-8a40-f7774985cab6"
   },
   "outputs": [],
   "source": [
    "print(type(a))             #print type of a"
   ]
  },
  {
   "cell_type": "markdown",
   "metadata": {
    "colab_type": "text",
    "id": "-REyz-C-jAj8"
   },
   "source": [
    "We can perform set operations like union, intersection on two sets. Set have unique values."
   ]
  },
  {
   "cell_type": "code",
   "execution_count": null,
   "metadata": {
    "colab": {},
    "colab_type": "code",
    "id": "1PYDi3VRjAj8",
    "outputId": "ecc5bdd1-4e8f-4809-a4b0-6b783812c487"
   },
   "outputs": [],
   "source": [
    "s = {10, 20, 20, 30, 30, 30}\n",
    "print(s) #automatically set won't consider duplicate elements\n",
    "\n",
    "s.add(500)\n",
    "print(s)"
   ]
  },
  {
   "cell_type": "code",
   "execution_count": null,
   "metadata": {
    "colab": {},
    "colab_type": "code",
    "id": "8gA4UANbjAkA",
    "outputId": "234f8a35-d62b-4f35-e5a3-ae1e1d520082"
   },
   "outputs": [],
   "source": [
    "print(s[1]) #we can't print particular element in set because \n",
    "            #it's unorder collections of items\n",
    "    \n"
   ]
  },
  {
   "cell_type": "markdown",
   "metadata": {
    "colab_type": "text",
    "id": "qcVbqDR0jAkE"
   },
   "source": [
    "# Python Dictionary"
   ]
  },
  {
   "cell_type": "markdown",
   "metadata": {
    "colab_type": "text",
    "id": "W0R99yybjAkF"
   },
   "source": [
    "Dictionary is an unordered collection of key-value pairs."
   ]
  },
  {
   "cell_type": "markdown",
   "metadata": {
    "colab_type": "text",
    "id": "xojDNh_ujAkG"
   },
   "source": [
    "In Python, dictionaries are defined within braces {} with each item being a pair in the form key:value. Key and value can be of any type."
   ]
  },
  {
   "cell_type": "code",
   "execution_count": null,
   "metadata": {
    "colab": {},
    "colab_type": "code",
    "id": "2T9I2fD_jAkG",
    "outputId": "efb2d70e-381b-4d6a-977b-102cf4374f04"
   },
   "outputs": [],
   "source": [
    "d = {\"XUV500\" : \"Mahindra\", \"Cedan\" : \"BMWX7\", \"Hatchback\" : \"Alrix\"}\n",
    "print(\"Value for cedan: \", d['Cedan'])\n",
    "\n",
    "print(d.get('XUV700'))\n",
    "\n",
    "d['Hatchback'] = 'Polo'\n",
    "print (\"Checking hatchback car :\" , d['Hatchback'])\n",
    "\n",
    "print(\"Value after change the model of car : \", d)\n",
    "#Dictionaries are mutable"
   ]
  },
  {
   "cell_type": "markdown",
   "metadata": {
    "colab_type": "text",
    "id": "VAFPibx4jAkK"
   },
   "source": [
    "# Conversion between Datatypes"
   ]
  },
  {
   "cell_type": "markdown",
   "metadata": {
    "colab_type": "text",
    "id": "Gr9LdKwUjAkK"
   },
   "source": [
    "We can convert between different data types by using different type conversion functions like int(), float(), str() etc."
   ]
  },
  {
   "cell_type": "code",
   "execution_count": null,
   "metadata": {
    "colab": {},
    "colab_type": "code",
    "id": "C7Hm3GjUjAkL",
    "outputId": "09b91390-f878-4951-9555-8a0b64ba3c5f"
   },
   "outputs": [],
   "source": [
    "float(5)     #convert interger to float using float() method"
   ]
  },
  {
   "cell_type": "code",
   "execution_count": null,
   "metadata": {
    "colab": {},
    "colab_type": "code",
    "id": "qOQdGOo9jAkO",
    "outputId": "9422f2b0-3c1a-4604-de77-6cf0592c1d50"
   },
   "outputs": [],
   "source": [
    "int(100.5)   #convert float to integer using int() method"
   ]
  },
  {
   "cell_type": "code",
   "execution_count": null,
   "metadata": {
    "colab": {},
    "colab_type": "code",
    "id": "j_YHvzHjjAkR",
    "outputId": "fccee2e4-fe13-4a7f-c435-ab1c604a477e"
   },
   "outputs": [],
   "source": [
    "str(20)      #convert integer to string"
   ]
  },
  {
   "cell_type": "markdown",
   "metadata": {
    "colab_type": "text",
    "id": "fQlmdkWZjAkV"
   },
   "source": [
    "Conversion to and from string must contain compatible values."
   ]
  },
  {
   "cell_type": "code",
   "execution_count": null,
   "metadata": {
    "colab": {},
    "colab_type": "code",
    "id": "rmZTUGvNjAkW",
    "outputId": "d8b7fb08-d354-4cf8-9300-32adf9e74d3e"
   },
   "outputs": [],
   "source": [
    "int('10p')"
   ]
  },
  {
   "cell_type": "code",
   "execution_count": null,
   "metadata": {
    "colab": {},
    "colab_type": "code",
    "id": "ySebSJL4jAka",
    "outputId": "1f8f7f2e-97e8-4328-8609-05287af9173a"
   },
   "outputs": [],
   "source": [
    "user = \"Nilesh\"\n",
    "lines = 100\n",
    "print(type(lines))\n",
    "\n",
    "print(\"Congratulations, \" + user + \"! You just wrote \" + str(lines) +  \" lines of code\" )\n",
    "#remove str and gives error"
   ]
  },
  {
   "cell_type": "markdown",
   "metadata": {
    "colab_type": "text",
    "id": "b70t71oHjAke"
   },
   "source": [
    "We can convert one sequence to other"
   ]
  },
  {
   "cell_type": "code",
   "execution_count": null,
   "metadata": {
    "colab": {},
    "colab_type": "code",
    "id": "X8JVo21VjAkf",
    "outputId": "d16e5cdb-19af-4277-d00b-fb10c670af19"
   },
   "outputs": [],
   "source": [
    "a = (1, 2, 3)\n",
    "\n",
    "print(a)\n",
    "\n",
    "print(type(a))      #type of a is list \n",
    "\n",
    "s = list(a)          #convert list to set using set() method\n",
    "\n",
    "print(type(s))      #now type of s is set\n",
    "print(s)\n",
    "\n",
    "t = set(a)\n",
    "\n",
    "print(type(t))\n",
    "print(t)"
   ]
  },
  {
   "cell_type": "code",
   "execution_count": null,
   "metadata": {
    "colab": {},
    "colab_type": "code",
    "id": "_Uhx5L4AjAkm",
    "outputId": "42d880af-b2cb-451c-affd-0d803d272a1b"
   },
   "outputs": [],
   "source": [
    "he = list(\"Hello\")       #convert String to list using list() method\n",
    "print(he)\n",
    "he[0] = 'h'\n",
    "print(he)"
   ]
  },
  {
   "cell_type": "code",
   "execution_count": 19,
   "metadata": {},
   "outputs": [],
   "source": []
  },
  {
   "cell_type": "code",
   "execution_count": null,
   "metadata": {},
   "outputs": [],
   "source": []
  },
  {
   "cell_type": "code",
   "execution_count": null,
   "metadata": {},
   "outputs": [],
   "source": []
  }
 ],
 "metadata": {
  "colab": {
   "name": "1.4.ipynb",
   "provenance": [],
   "version": "0.3.2"
  },
  "kernelspec": {
   "display_name": "Python 3",
   "language": "python",
   "name": "python3"
  },
  "language_info": {
   "codemirror_mode": {
    "name": "ipython",
    "version": 3
   },
   "file_extension": ".py",
   "mimetype": "text/x-python",
   "name": "python",
   "nbconvert_exporter": "python",
   "pygments_lexer": "ipython3",
   "version": "3.8.5"
  }
 },
 "nbformat": 4,
 "nbformat_minor": 1
}
